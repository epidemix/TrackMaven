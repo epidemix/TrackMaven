{
 "cells": [
  {
   "cell_type": "code",
   "execution_count": 1,
   "metadata": {},
   "outputs": [
    {
     "name": "stdout",
     "output_type": "stream",
     "text": [
      "CPU times: user 1.14 s, sys: 273 ms, total: 1.41 s\n",
      "Wall time: 1.69 s\n"
     ]
    }
   ],
   "source": [
    "%%time\n",
    "# Importing all the necessary libraries for this project.\n",
    "\n",
    "import pandas as pd\n",
    "import numpy as np\n",
    "import pandas as pd\n",
    "import matplotlib.pyplot as plt\n",
    "import seaborn as sns\n",
    "from pylab import rcParams\n",
    "import pandas as pd\n",
    "from bs4 import BeautifulSoup\n",
    "import requests\n",
    "import json"
   ]
  },
  {
   "cell_type": "code",
   "execution_count": 29,
   "metadata": {
    "collapsed": true
   },
   "outputs": [],
   "source": [
    "pd.set_option('display.max_colwidth', -1)\n",
    "pd.set_option('display.max_columns', None)\n",
    "pd.options.mode.chained_assignment = None\n"
   ]
  },
  {
   "cell_type": "code",
   "execution_count": 3,
   "metadata": {
    "collapsed": true
   },
   "outputs": [],
   "source": [
    "rawdata = pd.read_json(\"https://s3.amazonaws.com/temp-data-pulls/newdump.json\")"
   ]
  },
  {
   "cell_type": "code",
   "execution_count": 8,
   "metadata": {
    "collapsed": true
   },
   "outputs": [
    {
     "data": {
      "text/html": [
       "<div>\n",
       "<style>\n",
       "    .dataframe thead tr:only-child th {\n",
       "        text-align: right;\n",
       "    }\n",
       "\n",
       "    .dataframe thead th {\n",
       "        text-align: left;\n",
       "    }\n",
       "\n",
       "    .dataframe tbody tr th {\n",
       "        vertical-align: top;\n",
       "    }\n",
       "</style>\n",
       "<table border=\"1\" class=\"dataframe\">\n",
       "  <thead>\n",
       "    <tr style=\"text-align: right;\">\n",
       "      <th></th>\n",
       "      <th>brand</th>\n",
       "      <th>channel_info</th>\n",
       "      <th>content</th>\n",
       "      <th>engagement</th>\n",
       "      <th>has_spend</th>\n",
       "      <th>id</th>\n",
       "      <th>impact</th>\n",
       "      <th>share_token</th>\n",
       "      <th>timestamp</th>\n",
       "      <th>type</th>\n",
       "      <th>urls</th>\n",
       "    </tr>\n",
       "  </thead>\n",
       "  <tbody>\n",
       "    <tr>\n",
       "      <th>0</th>\n",
       "      <td>137316</td>\n",
       "      <td>{'type': ['link'], 'channel': 'facebook'}</td>\n",
       "      <td>{'reactions': {'wow_count': 0, 'sad_count': 0, 'angry_count': 0, 'love_count': 2, 'haha_count': 0}, 'permalink': 'https://www.facebook.com/26815555478/posts/10155699257305479', 'hashtags': '', 'media_name': '11 Women Share What Really Happens to Your Sex Drive During Pregnancy', 'media_caption': 'glamour.com', 'media_description': ' ', 'link_url': 'http://glmr.co/jg9jPXX', 'picture_url': 'https://external.xx.fbcdn.net/safe_image.php?d=AQDhXtx7-b1diuab&amp;url=https%3A%2F%2Fmedia.glamour.com%2Fphotos%2F57a0bc4354c640ad26366526%2Fmaster%2Fpass%2Fknocked-up-in-bed.jpg&amp;_nc_hash=AQB8Ixdn1SF2yWol', 'links': ['http://glmr.co/jg9jPXX', 'glamour.com'], 'post_id': '26815555478_10155699257305479', 'comment_count': 1, 'like_count': 6, 'content_type': 2, 'message': 'Sometimes it gets really, really good.', 'share_count': 0}</td>\n",
       "      <td>9</td>\n",
       "      <td>0.0</td>\n",
       "      <td>MTM3MzE2LTU0NTA4NDg5X2ZhY2Vib29rIHBvc3RfMTc0ODM</td>\n",
       "      <td>0.005619</td>\n",
       "      <td>FRI3zHcgR410PLLtjinjwU-xhf8kQw0VfV3KIISpuwToreqw3fR0cEsVe5xsj9xR</td>\n",
       "      <td>2017-11-16 04:59:09</td>\n",
       "      <td>facebook post</td>\n",
       "      <td>[{'url': 'http://glmr.co/jg9jPXX', 'path': '/jg9jPXX', 'hostname': 'glmr.co', 'utm': {'term': None, 'medium': None, 'campaign': None, 'content': None, 'source': None, 'id': None}}, {'url': 'https://www.glamour.com/story/11-women-reveal-how-pregnancy-affected-their-sex-lives?mbid=social_facebook_fanpage', 'path': '/story/11-women-reveal-how-pregnancy-affected-their-sex-lives', 'hostname': 'www.glamour.com', 'utm': {'term': None, 'medium': None, 'campaign': None, 'content': None, 'source': None, 'id': None}}]</td>\n",
       "    </tr>\n",
       "    <tr>\n",
       "      <th>1</th>\n",
       "      <td>137299</td>\n",
       "      <td>{'type': ['article'], 'channel': 'pinterest'}</td>\n",
       "      <td>{'pinned_from': None, 'description': 'Groomed arched eyebrows create a flattering frame for the eyes. And anything that accentuates the eyes is going to make them appear larger.', 'links': [], 'repin_count': 0, 'pin_id': '246290673355306588', 'hashtags': '', 'comment_count': 0, 'like_count': 0, 'post_type': 'article', 'image_url': 'https://s-media-cache-ak0.pinimg.com/originals/9f/9c/9e/9f9c9e89832f73a52848a3ee10370f66.jpg', 'pin_url': 'http://pinterest.com/pin/246290673355306588/'}</td>\n",
       "      <td>0</td>\n",
       "      <td>NaN</td>\n",
       "      <td>MTM3Mjk5LTEzNzEzMDIxX3Bpbl8xNzQ4Mw</td>\n",
       "      <td>NaN</td>\n",
       "      <td>nJ1zxu1n4vEROp9z02MmMkgCRRNvsW1sF16YTlQj-6Y</td>\n",
       "      <td>2017-11-16 04:56:16</td>\n",
       "      <td>pin</td>\n",
       "      <td>NaN</td>\n",
       "    </tr>\n",
       "    <tr>\n",
       "      <th>2</th>\n",
       "      <td>137321</td>\n",
       "      <td>{'type': ['photo', 'link'], 'channel': 'twitter'}</td>\n",
       "      <td>{'link_title': 'Subscribe to SELF’s Newsletter', 'hashtags': '', 'links': ['https://t.co/lMJXiK49Kf', 'https://t.co/apDUJKJ90g'], 'text': 'Did you know? We have a newsletter dedicated to healthy eating! Subscribe here: https://t.co/lMJXiK49Kf https://t.co/apDUJKJ90g', 'link_url': 'https://t.co/lMJXiK49Kf', 'link_description': '', 'tweet_id': '931023079161122816', 'tweet_url': 'https://www.twitter.com/SELFmagazine/status/931023079161122816', 'link_thumbnail': None, 'retweet_count': 3, 'favorite_count': 12, 'media_url': 'https://pbs.twimg.com/tweet_video_thumb/DOuohInUMAAR_7g.jpg'}</td>\n",
       "      <td>15</td>\n",
       "      <td>NaN</td>\n",
       "      <td>MTM3MzIxLTgzMjQ1OTcwX3R3ZWV0XzE3NDgz</td>\n",
       "      <td>1.101843</td>\n",
       "      <td>jNfpfZqFPpHoDgG98xDnzRKGCIbDl8Cuy56G3Acs6Yc</td>\n",
       "      <td>2017-11-16 04:56:14</td>\n",
       "      <td>tweet</td>\n",
       "      <td>NaN</td>\n",
       "    </tr>\n",
       "    <tr>\n",
       "      <th>3</th>\n",
       "      <td>137326</td>\n",
       "      <td>{'type': ['link'], 'channel': 'twitter'}</td>\n",
       "      <td>{'link_title': 'A Peek Inside Tiffany &amp; Co.’s New Café, Where You Can Yes, Eat Breakfast at Tiffany’s', 'hashtags': '', 'links': ['https://t.co/X4JJ6wf7Nj'], 'text': 'Yes, @TiffanyAndCo now has a restaurant on its fourth floor, the Blue Box Café: https://t.co/X4JJ6wf7Nj', 'link_url': 'https://t.co/X4JJ6wf7Nj', 'link_description': 'Get your croissant and coffee orders ready.', 'tweet_id': '931022961557016576', 'tweet_url': 'https://www.twitter.com/voguemagazine/status/931022961557016576', 'link_thumbnail': 'https://assets.vogue.com/photos/5a060aa9049f3e1509b41919/16:9/pass/00-social-image-new-blue-box-cafe-at-tiffany-and-co-fifth-avenue-flagship-store.jpg', 'retweet_count': 49, 'favorite_count': 169, 'media_url': None}</td>\n",
       "      <td>218</td>\n",
       "      <td>NaN</td>\n",
       "      <td>MTM3MzI2LTgzMjQ3MDA0X3R3ZWV0XzE3NDgz</td>\n",
       "      <td>1.574531</td>\n",
       "      <td>G04eObKwGCH2I4rE_U912xKGCIbDl8Cuy56G3Acs6Yc</td>\n",
       "      <td>2017-11-16 04:55:46</td>\n",
       "      <td>tweet</td>\n",
       "      <td>NaN</td>\n",
       "    </tr>\n",
       "    <tr>\n",
       "      <th>4</th>\n",
       "      <td>137329</td>\n",
       "      <td>{'type': ['link'], 'channel': 'twitter'}</td>\n",
       "      <td>{'link_title': 'The Fifty Shades Freed Trailer Is the Climax You've Been Waiting For', 'hashtags': '', 'links': ['https://t.co/tvPIk7mP8e'], 'text': 'Watch the full @FiftyShades trailer, here: https://t.co/tvPIk7mP8e', 'link_url': 'https://t.co/tvPIk7mP8e', 'link_description': 'Wedding bells and some NSFW action.', 'tweet_id': '931021564551876608', 'tweet_url': 'https://www.twitter.com/wmag/status/931021564551876608', 'link_thumbnail': 'https://media.wmagazine.com/photos/5a00934a9318326b27cbd445/16:9/pass/fify%20shades%20freed.png', 'retweet_count': 7, 'favorite_count': 18, 'media_url': None}</td>\n",
       "      <td>25</td>\n",
       "      <td>NaN</td>\n",
       "      <td>MTM3MzI5LTgzMjQ2MTA1X3R3ZWV0XzE3NDgz</td>\n",
       "      <td>0.648127</td>\n",
       "      <td>n3p3Hyl738ZPlNrqeVBDghKGCIbDl8Cuy56G3Acs6Yc</td>\n",
       "      <td>2017-11-16 04:50:13</td>\n",
       "      <td>tweet</td>\n",
       "      <td>NaN</td>\n",
       "    </tr>\n",
       "  </tbody>\n",
       "</table>\n",
       "</div>"
      ],
      "text/plain": [
       "    brand                                       channel_info  \\\n",
       "0  137316  {'type': ['link'], 'channel': 'facebook'}           \n",
       "1  137299  {'type': ['article'], 'channel': 'pinterest'}       \n",
       "2  137321  {'type': ['photo', 'link'], 'channel': 'twitter'}   \n",
       "3  137326  {'type': ['link'], 'channel': 'twitter'}            \n",
       "4  137329  {'type': ['link'], 'channel': 'twitter'}            \n",
       "\n",
       "                                                                                                                                                                                                                                                                                                                                                                                                                                                                                                                                                                                                                                                                                                                                                                                                                                              content  \\\n",
       "0  {'reactions': {'wow_count': 0, 'sad_count': 0, 'angry_count': 0, 'love_count': 2, 'haha_count': 0}, 'permalink': 'https://www.facebook.com/26815555478/posts/10155699257305479', 'hashtags': '', 'media_name': '11 Women Share What Really Happens to Your Sex Drive During Pregnancy', 'media_caption': 'glamour.com', 'media_description': ' ', 'link_url': 'http://glmr.co/jg9jPXX', 'picture_url': 'https://external.xx.fbcdn.net/safe_image.php?d=AQDhXtx7-b1diuab&url=https%3A%2F%2Fmedia.glamour.com%2Fphotos%2F57a0bc4354c640ad26366526%2Fmaster%2Fpass%2Fknocked-up-in-bed.jpg&_nc_hash=AQB8Ixdn1SF2yWol', 'links': ['http://glmr.co/jg9jPXX', 'glamour.com'], 'post_id': '26815555478_10155699257305479', 'comment_count': 1, 'like_count': 6, 'content_type': 2, 'message': 'Sometimes it gets really, really good.', 'share_count': 0}   \n",
       "1  {'pinned_from': None, 'description': 'Groomed arched eyebrows create a flattering frame for the eyes. And anything that accentuates the eyes is going to make them appear larger.', 'links': [], 'repin_count': 0, 'pin_id': '246290673355306588', 'hashtags': '', 'comment_count': 0, 'like_count': 0, 'post_type': 'article', 'image_url': 'https://s-media-cache-ak0.pinimg.com/originals/9f/9c/9e/9f9c9e89832f73a52848a3ee10370f66.jpg', 'pin_url': 'http://pinterest.com/pin/246290673355306588/'}                                                                                                                                                                                                                                                                                                                                              \n",
       "2  {'link_title': 'Subscribe to SELF’s Newsletter', 'hashtags': '', 'links': ['https://t.co/lMJXiK49Kf', 'https://t.co/apDUJKJ90g'], 'text': 'Did you know? We have a newsletter dedicated to healthy eating! Subscribe here: https://t.co/lMJXiK49Kf https://t.co/apDUJKJ90g', 'link_url': 'https://t.co/lMJXiK49Kf', 'link_description': '', 'tweet_id': '931023079161122816', 'tweet_url': 'https://www.twitter.com/SELFmagazine/status/931023079161122816', 'link_thumbnail': None, 'retweet_count': 3, 'favorite_count': 12, 'media_url': 'https://pbs.twimg.com/tweet_video_thumb/DOuohInUMAAR_7g.jpg'}                                                                                                                                                                                                                                           \n",
       "3  {'link_title': 'A Peek Inside Tiffany & Co.’s New Café, Where You Can Yes, Eat Breakfast at Tiffany’s', 'hashtags': '', 'links': ['https://t.co/X4JJ6wf7Nj'], 'text': 'Yes, @TiffanyAndCo now has a restaurant on its fourth floor, the Blue Box Café: https://t.co/X4JJ6wf7Nj', 'link_url': 'https://t.co/X4JJ6wf7Nj', 'link_description': 'Get your croissant and coffee orders ready.', 'tweet_id': '931022961557016576', 'tweet_url': 'https://www.twitter.com/voguemagazine/status/931022961557016576', 'link_thumbnail': 'https://assets.vogue.com/photos/5a060aa9049f3e1509b41919/16:9/pass/00-social-image-new-blue-box-cafe-at-tiffany-and-co-fifth-avenue-flagship-store.jpg', 'retweet_count': 49, 'favorite_count': 169, 'media_url': None}                                                                                              \n",
       "4  {'link_title': 'The Fifty Shades Freed Trailer Is the Climax You've Been Waiting For', 'hashtags': '', 'links': ['https://t.co/tvPIk7mP8e'], 'text': 'Watch the full @FiftyShades trailer, here: https://t.co/tvPIk7mP8e', 'link_url': 'https://t.co/tvPIk7mP8e', 'link_description': 'Wedding bells and some NSFW action.', 'tweet_id': '931021564551876608', 'tweet_url': 'https://www.twitter.com/wmag/status/931021564551876608', 'link_thumbnail': 'https://media.wmagazine.com/photos/5a00934a9318326b27cbd445/16:9/pass/fify%20shades%20freed.png', 'retweet_count': 7, 'favorite_count': 18, 'media_url': None}                                                                                                                                                                                                                              \n",
       "\n",
       "   engagement  has_spend                                               id  \\\n",
       "0  9           0.0        MTM3MzE2LTU0NTA4NDg5X2ZhY2Vib29rIHBvc3RfMTc0ODM   \n",
       "1  0          NaN         MTM3Mjk5LTEzNzEzMDIxX3Bpbl8xNzQ4Mw                \n",
       "2  15         NaN         MTM3MzIxLTgzMjQ1OTcwX3R3ZWV0XzE3NDgz              \n",
       "3  218        NaN         MTM3MzI2LTgzMjQ3MDA0X3R3ZWV0XzE3NDgz              \n",
       "4  25         NaN         MTM3MzI5LTgzMjQ2MTA1X3R3ZWV0XzE3NDgz              \n",
       "\n",
       "     impact                                                       share_token  \\\n",
       "0  0.005619  FRI3zHcgR410PLLtjinjwU-xhf8kQw0VfV3KIISpuwToreqw3fR0cEsVe5xsj9xR   \n",
       "1 NaN        nJ1zxu1n4vEROp9z02MmMkgCRRNvsW1sF16YTlQj-6Y                        \n",
       "2  1.101843  jNfpfZqFPpHoDgG98xDnzRKGCIbDl8Cuy56G3Acs6Yc                        \n",
       "3  1.574531  G04eObKwGCH2I4rE_U912xKGCIbDl8Cuy56G3Acs6Yc                        \n",
       "4  0.648127  n3p3Hyl738ZPlNrqeVBDghKGCIbDl8Cuy56G3Acs6Yc                        \n",
       "\n",
       "            timestamp           type  \\\n",
       "0 2017-11-16 04:59:09  facebook post   \n",
       "1 2017-11-16 04:56:16  pin             \n",
       "2 2017-11-16 04:56:14  tweet           \n",
       "3 2017-11-16 04:55:46  tweet           \n",
       "4 2017-11-16 04:50:13  tweet           \n",
       "\n",
       "                                                                                                                                                                                                                                                                                                                                                                                                                                                                                                                               urls  \n",
       "0  [{'url': 'http://glmr.co/jg9jPXX', 'path': '/jg9jPXX', 'hostname': 'glmr.co', 'utm': {'term': None, 'medium': None, 'campaign': None, 'content': None, 'source': None, 'id': None}}, {'url': 'https://www.glamour.com/story/11-women-reveal-how-pregnancy-affected-their-sex-lives?mbid=social_facebook_fanpage', 'path': '/story/11-women-reveal-how-pregnancy-affected-their-sex-lives', 'hostname': 'www.glamour.com', 'utm': {'term': None, 'medium': None, 'campaign': None, 'content': None, 'source': None, 'id': None}}]  \n",
       "1  NaN                                                                                                                                                                                                                                                                                                                                                                                                                                                                                                                               \n",
       "2  NaN                                                                                                                                                                                                                                                                                                                                                                                                                                                                                                                               \n",
       "3  NaN                                                                                                                                                                                                                                                                                                                                                                                                                                                                                                                               \n",
       "4  NaN                                                                                                                                                                                                                                                                                                                                                                                                                                                                                                                               "
      ]
     },
     "execution_count": 8,
     "metadata": {},
     "output_type": "execute_result"
    }
   ],
   "source": [
    "rawdata.head(5)"
   ]
  },
  {
   "cell_type": "code",
   "execution_count": 32,
   "metadata": {},
   "outputs": [],
   "source": [
    "def clean_datatable(rawdata):\n",
    "    \n",
    "    ## USING ONLY PIN & BLOG POSTS - RAW DATA HERE\n",
    "  \n",
    "    rawpin_blog = rawdata[(rawdata[\"type\"]==\"pin\") | (rawdata[\"type\"]==\"blog post\")]\n",
    "    rawpin_blog.drop([\"has_spend\"], axis = 1, inplace=True) \n",
    "    \n",
    "    # SEPARATING OUT THE COLUMNS\n",
    "\n",
    "    channel_info = rawpin_blog['channel_info'].apply(pd.Series)\n",
    "    channel_info.columns = [\"channel\", \"info\"]\n",
    "    \n",
    "    # SEPARATING OUT THE COLUMNS THE CONTENT_INFO COLUMN\n",
    "\n",
    "    content_info = rawpin_blog['content'].apply(pd.Series)\n",
    "    content_info.drop(['author_email', 'content', 'pinned_from'], axis=1, inplace=True) ## THESE HAVE ONLY NULLS\n",
    "    \n",
    "    \n",
    "    # FIX NAN VALUES IN EACH COLUMN THAT CONTAINS COUNT\n",
    "\n",
    "    for x in content_info.columns:\n",
    "        if \"count\" in x:\n",
    "            content_info[x].fillna(np.NaN, inplace = True)\n",
    "        \n",
    "    # JOINING THE DATASETS ONTO THE RAW\n",
    "\n",
    "    master_pinblog = rawpin_blog.join(channel_info).join(content_info)\n",
    "    master_pinblog.drop(['channel_info', 'content'], axis = 1, inplace = True)\n",
    "    \n",
    "    # FIX COLUMN NAMES & CLEAN UP TITLES\n",
    "    \n",
    "    master_pinblog.columns = ['brand', 'engagement', 'uniqueid', 'impact', 'share_token', 'timestamp',\n",
    "       'type', 'urls', 'channel', 'info', 'author_name', 'comment_count',\n",
    "       'description', 'fb_likecount', 'fb_sharecount',\n",
    "       'gplus_count', 'hashtags', 'image_url', 'like_count',\n",
    "       'link', 'linkedin_sharecount', 'links', 'pin_id', 'pin_url',\n",
    "       'pin_count', 'post_type', 'repin_count', 'summary',\n",
    "       'thumbnail_url', 'title', 'tweet_count']\n",
    "\n",
    "    return master_pinblog"
   ]
  },
  {
   "cell_type": "code",
   "execution_count": 33,
   "metadata": {},
   "outputs": [],
   "source": [
    "def blogsplit(master_pinblog):\n",
    "    \n",
    "        \n",
    "    # create new df called blogs that only contains blogs\n",
    "    blogs = master_pinblog[master_pinblog.type == 'blog post']\n",
    "    # converts link to string so we can split\n",
    "    blogs.link = blogs.link.astype(str)\n",
    "    # instantiate a new list called new_mag\n",
    "    new_mag = []\n",
    "    # list comprehension that just keeps part before ‘.com’\n",
    "    # we can use list comprehension because this is true for all values\n",
    "    magazine = [i.split('.com')[0] for i in blogs.link]\n",
    "    # start for loop to get rid of everything before the name of the magazine\n",
    "    for i in magazine:\n",
    "        if '.' in i:\n",
    "            new_mag.append(i.split('.')[1])\n",
    "    # if there isn’t a ‘.’ it just sends the existing name to the list\n",
    "        else:\n",
    "            new_mag.append(i)\n",
    "    # create new column for the df with the publications\n",
    "    blogs['pub'] = new_mag\n",
    "    \n",
    "    return blogs"
   ]
  },
  {
   "cell_type": "code",
   "execution_count": 42,
   "metadata": {
    "collapsed": true
   },
   "outputs": [],
   "source": [
    "def scraper_links(url):\n",
    "    article = \"\"\n",
    "    domain = url.split()[1]\n",
    "    url = url.split()[0]\n",
    "    print(url)\n",
    "    \n",
    "    return\n",
    "    ## TRY TO SEE IF THE LINK EXISTS. ELSE JUST RETURN NONE AND MOVE ON.\n",
    "    try:\n",
    "        request = requests.get(url)\n",
    "        soup = BeautifulSoup(request.text, \"lxml\")\n",
    "        info = json.loads(soup.find('script', type='application/ld+json').text)\n",
    "    except:\n",
    "        article = \"Link is Dead\"\n",
    "        other_info = {'headline': None, 'image': None, 'description': None, 'keywords': None, '@type': None}\n",
    "        return(article, other_info)\n",
    "\n",
    "    ## IF LINK WORKS, USE JSON ELSE USE BEAUTIFUL SOUP TO GET DATA.\n",
    "    try:\n",
    "        article = info[\"articleBody\"]\n",
    "    except:\n",
    "        try:\n",
    "            if domain == \"glamour\":\n",
    "                for posts in soup.find_all('div', {'class' : 'article__content'}):\n",
    "                    article = posts.text\n",
    "            elif domain == \"teenvogue\":\n",
    "                for posts in soup.find_all('div', {'class' : 'content article-content'}):\n",
    "                    article = posts.text\n",
    "            elif domain == \"wmagazine\":\n",
    "                for posts in soup.find_all('div', {'class' : 'body-text'}):\n",
    "                    article = posts.text\n",
    "            elif domain == \"allure\":\n",
    "                for posts in soup.find_all('div', {'class' : 'article-body'}):\n",
    "                    article = posts.text\n",
    "            elif domain == \"cntraveler\":\n",
    "                for posts in soup.find_all('div', {'class' : 'article-body'}):\n",
    "                    article = posts.text\n",
    "            elif domain == \"architecturaldigest\":\n",
    "                for posts in soup.find_all('div', {'class' : 'article-content-main'}):\n",
    "                    article = posts.text\n",
    "            elif domain == \"vogue\":\n",
    "                for posts in soup.find_all('div', {'class' : 'article-copy--body'}):\n",
    "                    article = posts.text\n",
    "        except:\n",
    "            article = \"Article Not Found\"\n",
    "\n",
    "            \n",
    "    ## USE JSON TO EXTRACT IMAGE INFO & OTHER STUFF ELSE RETURN NONE\n",
    "    \n",
    "    try:        \n",
    "        attributes = { 'headline', 'image', 'description', 'keywords', '@type'}\n",
    "        other_info = { k:v for k,v in info.items() if k in attributes }\n",
    "    except:\n",
    "        other_info = { 'headline': None, 'image': None, 'description': None, 'keywords': None, '@type': None}\n",
    "   \n",
    "\n",
    "    return(article, other_info)"
   ]
  },
  {
   "cell_type": "code",
   "execution_count": 43,
   "metadata": {
    "collapsed": true
   },
   "outputs": [],
   "source": [
    "blogs.reset_index(drop=True, inplace=True)\n",
    "blogs[\"links + pub\"] = blogs['link'] + str(\" \") + blogs['pub']"
   ]
  },
  {
   "cell_type": "code",
   "execution_count": 14,
   "metadata": {
    "collapsed": true
   },
   "outputs": [
    {
     "ename": "KeyError",
     "evalue": "('link', 'occurred at index link')",
     "output_type": "error",
     "traceback": [
      "\u001b[0;31m---------------------------------------------------------------------------\u001b[0m",
      "\u001b[0;31mTypeError\u001b[0m                                 Traceback (most recent call last)",
      "\u001b[0;32mpandas/_libs/index.pyx\u001b[0m in \u001b[0;36mpandas._libs.index.IndexEngine.get_loc (pandas/_libs/index.c:5126)\u001b[0;34m()\u001b[0m\n",
      "\u001b[0;32mpandas/_libs/hashtable_class_helper.pxi\u001b[0m in \u001b[0;36mpandas._libs.hashtable.Int64HashTable.get_item (pandas/_libs/hashtable.c:14010)\u001b[0;34m()\u001b[0m\n",
      "\u001b[0;31mTypeError\u001b[0m: an integer is required",
      "\nDuring handling of the above exception, another exception occurred:\n",
      "\u001b[0;31mKeyError\u001b[0m                                  Traceback (most recent call last)",
      "\u001b[0;32m<ipython-input-14-87270c0cd86a>\u001b[0m in \u001b[0;36m<module>\u001b[0;34m()\u001b[0m\n\u001b[0;32m----> 1\u001b[0;31m \u001b[0mget_ipython\u001b[0m\u001b[0;34m(\u001b[0m\u001b[0;34m)\u001b[0m\u001b[0;34m.\u001b[0m\u001b[0mrun_cell_magic\u001b[0m\u001b[0;34m(\u001b[0m\u001b[0;34m'time'\u001b[0m\u001b[0;34m,\u001b[0m \u001b[0;34m''\u001b[0m\u001b[0;34m,\u001b[0m \u001b[0;34m'\\n# blogs[\"story\"] = blogs[\"links + pub\"].apply(scraper_links)\\n\\nblogs[\"story\"] = blogs[[\"link\", \"pub\"]].apply(lambda x: print(x[\\'link\\']))'\u001b[0m\u001b[0;34m)\u001b[0m\u001b[0;34m\u001b[0m\u001b[0m\n\u001b[0m",
      "\u001b[0;32m/anaconda/lib/python3.6/site-packages/IPython/core/interactiveshell.py\u001b[0m in \u001b[0;36mrun_cell_magic\u001b[0;34m(self, magic_name, line, cell)\u001b[0m\n\u001b[1;32m   2113\u001b[0m             \u001b[0mmagic_arg_s\u001b[0m \u001b[0;34m=\u001b[0m \u001b[0mself\u001b[0m\u001b[0;34m.\u001b[0m\u001b[0mvar_expand\u001b[0m\u001b[0;34m(\u001b[0m\u001b[0mline\u001b[0m\u001b[0;34m,\u001b[0m \u001b[0mstack_depth\u001b[0m\u001b[0;34m)\u001b[0m\u001b[0;34m\u001b[0m\u001b[0m\n\u001b[1;32m   2114\u001b[0m             \u001b[0;32mwith\u001b[0m \u001b[0mself\u001b[0m\u001b[0;34m.\u001b[0m\u001b[0mbuiltin_trap\u001b[0m\u001b[0;34m:\u001b[0m\u001b[0;34m\u001b[0m\u001b[0m\n\u001b[0;32m-> 2115\u001b[0;31m                 \u001b[0mresult\u001b[0m \u001b[0;34m=\u001b[0m \u001b[0mfn\u001b[0m\u001b[0;34m(\u001b[0m\u001b[0mmagic_arg_s\u001b[0m\u001b[0;34m,\u001b[0m \u001b[0mcell\u001b[0m\u001b[0;34m)\u001b[0m\u001b[0;34m\u001b[0m\u001b[0m\n\u001b[0m\u001b[1;32m   2116\u001b[0m             \u001b[0;32mreturn\u001b[0m \u001b[0mresult\u001b[0m\u001b[0;34m\u001b[0m\u001b[0m\n\u001b[1;32m   2117\u001b[0m \u001b[0;34m\u001b[0m\u001b[0m\n",
      "\u001b[0;32m<decorator-gen-59>\u001b[0m in \u001b[0;36mtime\u001b[0;34m(self, line, cell, local_ns)\u001b[0m\n",
      "\u001b[0;32m/anaconda/lib/python3.6/site-packages/IPython/core/magic.py\u001b[0m in \u001b[0;36m<lambda>\u001b[0;34m(f, *a, **k)\u001b[0m\n\u001b[1;32m    186\u001b[0m     \u001b[0;31m# but it's overkill for just that one bit of state.\u001b[0m\u001b[0;34m\u001b[0m\u001b[0;34m\u001b[0m\u001b[0m\n\u001b[1;32m    187\u001b[0m     \u001b[0;32mdef\u001b[0m \u001b[0mmagic_deco\u001b[0m\u001b[0;34m(\u001b[0m\u001b[0marg\u001b[0m\u001b[0;34m)\u001b[0m\u001b[0;34m:\u001b[0m\u001b[0;34m\u001b[0m\u001b[0m\n\u001b[0;32m--> 188\u001b[0;31m         \u001b[0mcall\u001b[0m \u001b[0;34m=\u001b[0m \u001b[0;32mlambda\u001b[0m \u001b[0mf\u001b[0m\u001b[0;34m,\u001b[0m \u001b[0;34m*\u001b[0m\u001b[0ma\u001b[0m\u001b[0;34m,\u001b[0m \u001b[0;34m**\u001b[0m\u001b[0mk\u001b[0m\u001b[0;34m:\u001b[0m \u001b[0mf\u001b[0m\u001b[0;34m(\u001b[0m\u001b[0;34m*\u001b[0m\u001b[0ma\u001b[0m\u001b[0;34m,\u001b[0m \u001b[0;34m**\u001b[0m\u001b[0mk\u001b[0m\u001b[0;34m)\u001b[0m\u001b[0;34m\u001b[0m\u001b[0m\n\u001b[0m\u001b[1;32m    189\u001b[0m \u001b[0;34m\u001b[0m\u001b[0m\n\u001b[1;32m    190\u001b[0m         \u001b[0;32mif\u001b[0m \u001b[0mcallable\u001b[0m\u001b[0;34m(\u001b[0m\u001b[0marg\u001b[0m\u001b[0;34m)\u001b[0m\u001b[0;34m:\u001b[0m\u001b[0;34m\u001b[0m\u001b[0m\n",
      "\u001b[0;32m/anaconda/lib/python3.6/site-packages/IPython/core/magics/execution.py\u001b[0m in \u001b[0;36mtime\u001b[0;34m(self, line, cell, local_ns)\u001b[0m\n\u001b[1;32m   1183\u001b[0m         \u001b[0;32melse\u001b[0m\u001b[0;34m:\u001b[0m\u001b[0;34m\u001b[0m\u001b[0m\n\u001b[1;32m   1184\u001b[0m             \u001b[0mst\u001b[0m \u001b[0;34m=\u001b[0m \u001b[0mclock2\u001b[0m\u001b[0;34m(\u001b[0m\u001b[0;34m)\u001b[0m\u001b[0;34m\u001b[0m\u001b[0m\n\u001b[0;32m-> 1185\u001b[0;31m             \u001b[0mexec\u001b[0m\u001b[0;34m(\u001b[0m\u001b[0mcode\u001b[0m\u001b[0;34m,\u001b[0m \u001b[0mglob\u001b[0m\u001b[0;34m,\u001b[0m \u001b[0mlocal_ns\u001b[0m\u001b[0;34m)\u001b[0m\u001b[0;34m\u001b[0m\u001b[0m\n\u001b[0m\u001b[1;32m   1186\u001b[0m             \u001b[0mend\u001b[0m \u001b[0;34m=\u001b[0m \u001b[0mclock2\u001b[0m\u001b[0;34m(\u001b[0m\u001b[0;34m)\u001b[0m\u001b[0;34m\u001b[0m\u001b[0m\n\u001b[1;32m   1187\u001b[0m             \u001b[0mout\u001b[0m \u001b[0;34m=\u001b[0m \u001b[0;32mNone\u001b[0m\u001b[0;34m\u001b[0m\u001b[0m\n",
      "\u001b[0;32m<timed exec>\u001b[0m in \u001b[0;36m<module>\u001b[0;34m()\u001b[0m\n",
      "\u001b[0;32m/anaconda/lib/python3.6/site-packages/pandas/core/frame.py\u001b[0m in \u001b[0;36mapply\u001b[0;34m(self, func, axis, broadcast, raw, reduce, args, **kwds)\u001b[0m\n\u001b[1;32m   4260\u001b[0m                         \u001b[0mf\u001b[0m\u001b[0;34m,\u001b[0m \u001b[0maxis\u001b[0m\u001b[0;34m,\u001b[0m\u001b[0;34m\u001b[0m\u001b[0m\n\u001b[1;32m   4261\u001b[0m                         \u001b[0mreduce\u001b[0m\u001b[0;34m=\u001b[0m\u001b[0mreduce\u001b[0m\u001b[0;34m,\u001b[0m\u001b[0;34m\u001b[0m\u001b[0m\n\u001b[0;32m-> 4262\u001b[0;31m                         ignore_failures=ignore_failures)\n\u001b[0m\u001b[1;32m   4263\u001b[0m             \u001b[0;32melse\u001b[0m\u001b[0;34m:\u001b[0m\u001b[0;34m\u001b[0m\u001b[0m\n\u001b[1;32m   4264\u001b[0m                 \u001b[0;32mreturn\u001b[0m \u001b[0mself\u001b[0m\u001b[0;34m.\u001b[0m\u001b[0m_apply_broadcast\u001b[0m\u001b[0;34m(\u001b[0m\u001b[0mf\u001b[0m\u001b[0;34m,\u001b[0m \u001b[0maxis\u001b[0m\u001b[0;34m)\u001b[0m\u001b[0;34m\u001b[0m\u001b[0m\n",
      "\u001b[0;32m/anaconda/lib/python3.6/site-packages/pandas/core/frame.py\u001b[0m in \u001b[0;36m_apply_standard\u001b[0;34m(self, func, axis, ignore_failures, reduce)\u001b[0m\n\u001b[1;32m   4356\u001b[0m             \u001b[0;32mtry\u001b[0m\u001b[0;34m:\u001b[0m\u001b[0;34m\u001b[0m\u001b[0m\n\u001b[1;32m   4357\u001b[0m                 \u001b[0;32mfor\u001b[0m \u001b[0mi\u001b[0m\u001b[0;34m,\u001b[0m \u001b[0mv\u001b[0m \u001b[0;32min\u001b[0m \u001b[0menumerate\u001b[0m\u001b[0;34m(\u001b[0m\u001b[0mseries_gen\u001b[0m\u001b[0;34m)\u001b[0m\u001b[0;34m:\u001b[0m\u001b[0;34m\u001b[0m\u001b[0m\n\u001b[0;32m-> 4358\u001b[0;31m                     \u001b[0mresults\u001b[0m\u001b[0;34m[\u001b[0m\u001b[0mi\u001b[0m\u001b[0;34m]\u001b[0m \u001b[0;34m=\u001b[0m \u001b[0mfunc\u001b[0m\u001b[0;34m(\u001b[0m\u001b[0mv\u001b[0m\u001b[0;34m)\u001b[0m\u001b[0;34m\u001b[0m\u001b[0m\n\u001b[0m\u001b[1;32m   4359\u001b[0m                     \u001b[0mkeys\u001b[0m\u001b[0;34m.\u001b[0m\u001b[0mappend\u001b[0m\u001b[0;34m(\u001b[0m\u001b[0mv\u001b[0m\u001b[0;34m.\u001b[0m\u001b[0mname\u001b[0m\u001b[0;34m)\u001b[0m\u001b[0;34m\u001b[0m\u001b[0m\n\u001b[1;32m   4360\u001b[0m             \u001b[0;32mexcept\u001b[0m \u001b[0mException\u001b[0m \u001b[0;32mas\u001b[0m \u001b[0me\u001b[0m\u001b[0;34m:\u001b[0m\u001b[0;34m\u001b[0m\u001b[0m\n",
      "\u001b[0;32m<timed exec>\u001b[0m in \u001b[0;36m<lambda>\u001b[0;34m(x)\u001b[0m\n",
      "\u001b[0;32m/anaconda/lib/python3.6/site-packages/pandas/core/series.py\u001b[0m in \u001b[0;36m__getitem__\u001b[0;34m(self, key)\u001b[0m\n\u001b[1;32m    599\u001b[0m         \u001b[0mkey\u001b[0m \u001b[0;34m=\u001b[0m \u001b[0mcom\u001b[0m\u001b[0;34m.\u001b[0m\u001b[0m_apply_if_callable\u001b[0m\u001b[0;34m(\u001b[0m\u001b[0mkey\u001b[0m\u001b[0;34m,\u001b[0m \u001b[0mself\u001b[0m\u001b[0;34m)\u001b[0m\u001b[0;34m\u001b[0m\u001b[0m\n\u001b[1;32m    600\u001b[0m         \u001b[0;32mtry\u001b[0m\u001b[0;34m:\u001b[0m\u001b[0;34m\u001b[0m\u001b[0m\n\u001b[0;32m--> 601\u001b[0;31m             \u001b[0mresult\u001b[0m \u001b[0;34m=\u001b[0m \u001b[0mself\u001b[0m\u001b[0;34m.\u001b[0m\u001b[0mindex\u001b[0m\u001b[0;34m.\u001b[0m\u001b[0mget_value\u001b[0m\u001b[0;34m(\u001b[0m\u001b[0mself\u001b[0m\u001b[0;34m,\u001b[0m \u001b[0mkey\u001b[0m\u001b[0;34m)\u001b[0m\u001b[0;34m\u001b[0m\u001b[0m\n\u001b[0m\u001b[1;32m    602\u001b[0m \u001b[0;34m\u001b[0m\u001b[0m\n\u001b[1;32m    603\u001b[0m             \u001b[0;32mif\u001b[0m \u001b[0;32mnot\u001b[0m \u001b[0mis_scalar\u001b[0m\u001b[0;34m(\u001b[0m\u001b[0mresult\u001b[0m\u001b[0;34m)\u001b[0m\u001b[0;34m:\u001b[0m\u001b[0;34m\u001b[0m\u001b[0m\n",
      "\u001b[0;32m/anaconda/lib/python3.6/site-packages/pandas/core/indexes/base.py\u001b[0m in \u001b[0;36mget_value\u001b[0;34m(self, series, key)\u001b[0m\n\u001b[1;32m   2475\u001b[0m         \u001b[0;32mtry\u001b[0m\u001b[0;34m:\u001b[0m\u001b[0;34m\u001b[0m\u001b[0m\n\u001b[1;32m   2476\u001b[0m             return self._engine.get_value(s, k,\n\u001b[0;32m-> 2477\u001b[0;31m                                           tz=getattr(series.dtype, 'tz', None))\n\u001b[0m\u001b[1;32m   2478\u001b[0m         \u001b[0;32mexcept\u001b[0m \u001b[0mKeyError\u001b[0m \u001b[0;32mas\u001b[0m \u001b[0me1\u001b[0m\u001b[0;34m:\u001b[0m\u001b[0;34m\u001b[0m\u001b[0m\n\u001b[1;32m   2479\u001b[0m             \u001b[0;32mif\u001b[0m \u001b[0mlen\u001b[0m\u001b[0;34m(\u001b[0m\u001b[0mself\u001b[0m\u001b[0;34m)\u001b[0m \u001b[0;34m>\u001b[0m \u001b[0;36m0\u001b[0m \u001b[0;32mand\u001b[0m \u001b[0mself\u001b[0m\u001b[0;34m.\u001b[0m\u001b[0minferred_type\u001b[0m \u001b[0;32min\u001b[0m \u001b[0;34m[\u001b[0m\u001b[0;34m'integer'\u001b[0m\u001b[0;34m,\u001b[0m \u001b[0;34m'boolean'\u001b[0m\u001b[0;34m]\u001b[0m\u001b[0;34m:\u001b[0m\u001b[0;34m\u001b[0m\u001b[0m\n",
      "\u001b[0;32mpandas/_libs/index.pyx\u001b[0m in \u001b[0;36mpandas._libs.index.IndexEngine.get_value (pandas/_libs/index.c:4404)\u001b[0;34m()\u001b[0m\n",
      "\u001b[0;32mpandas/_libs/index.pyx\u001b[0m in \u001b[0;36mpandas._libs.index.IndexEngine.get_value (pandas/_libs/index.c:4087)\u001b[0;34m()\u001b[0m\n",
      "\u001b[0;32mpandas/_libs/index.pyx\u001b[0m in \u001b[0;36mpandas._libs.index.IndexEngine.get_loc (pandas/_libs/index.c:5210)\u001b[0;34m()\u001b[0m\n",
      "\u001b[0;31mKeyError\u001b[0m: ('link', 'occurred at index link')"
     ]
    }
   ],
   "source": [
    "%%time\n",
    "\n",
    "blogs[\"story\"] = blogs[\"links + pub\"].apply(scraper_links)\n"
   ]
  },
  {
   "cell_type": "code",
   "execution_count": 48,
   "metadata": {
    "collapsed": true
   },
   "outputs": [],
   "source": [
    "blogs = blogs.join(blogs['story'].apply(pd.Series))\n",
    "blogs.drop(['story', 'links + pub'], axis=1, inplace = True)"
   ]
  },
  {
   "cell_type": "code",
   "execution_count": 57,
   "metadata": {
    "collapsed": true
   },
   "outputs": [],
   "source": [
    "blogs.columns.values[-1] = 'blogdetails'\n",
    "blogs.columns.values[-2] = 'blogpost'"
   ]
  },
  {
   "cell_type": "code",
   "execution_count": 60,
   "metadata": {
    "collapsed": true,
    "scrolled": false
   },
   "outputs": [],
   "source": [
    "blogs.to_csv('BlogMaster.csv', mode='a', header=True)"
   ]
  }
 ],
 "metadata": {
  "kernelspec": {
   "display_name": "Python 3",
   "language": "python",
   "name": "python3"
  },
  "language_info": {
   "codemirror_mode": {
    "name": "ipython",
    "version": 3
   },
   "file_extension": ".py",
   "mimetype": "text/x-python",
   "name": "python",
   "nbconvert_exporter": "python",
   "pygments_lexer": "ipython3",
   "version": "3.6.3"
  }
 },
 "nbformat": 4,
 "nbformat_minor": 2
}
