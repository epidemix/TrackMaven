{
 "cells": [
  {
   "cell_type": "code",
   "execution_count": 2,
   "metadata": {
    "collapsed": true
   },
   "outputs": [],
   "source": [
    "import pandas as pd\n",
    "import numpy as np\n",
    "import nltk\n",
    "from stop_words import get_stop_words\n",
    "from nltk import word_tokenize\n",
    "from nltk.stem.snowball import SnowballStemmer\n",
    "from nltk.stem import WordNetLemmatizer\n",
    "from gensim import corpora, models\n",
    "import gensim\n",
    "import pyLDAvis.gensim"
   ]
  },
  {
   "cell_type": "code",
   "execution_count": 3,
   "metadata": {
    "collapsed": true
   },
   "outputs": [],
   "source": [
    "df = pd.read_json('https://s3.amazonaws.com/temp-data-pulls/newdump.json')"
   ]
  },
  {
   "cell_type": "code",
   "execution_count": 7,
   "metadata": {
    "collapsed": true
   },
   "outputs": [],
   "source": [
    "pd.options.mode.chained_assignment = None\n",
    "rawpin_blog = df[(df[\"type\"]==\"pin\") | (df[\"type\"]==\"blog post\")]\n",
    "rawpin_blog.drop([\"has_spend\"], axis = 1, inplace=True)\n",
    "channel_info = rawpin_blog['channel_info'].apply(pd.Series)\n",
    "channel_info.columns = [\"channel\", \"info\"]\n",
    "content_info = rawpin_blog['content'].apply(pd.Series)\n",
    "content_info.drop(['author_email', 'content', 'pinned_from'], axis=1, inplace=True) ## THESE HAVE ONLY NULLS\n",
    "for x in content_info.columns:\n",
    "    if \"count\" in x:\n",
    "        content_info[x].fillna(np.NaN, inplace = True)\n",
    "        #content_info[x] = content_info[x].astype(int)\n",
    "master_pinblog = rawpin_blog.join(channel_info).join(content_info)\n",
    "master_pinblog.drop(['channel_info', 'content'], axis = 1, inplace = True)\n",
    "master_pinblog.columns = ['brand', 'engagement', 'uniqueid', 'impact', 'share_token', 'timestamp',\n",
    "       'type', 'urls', 'channel', 'info', 'author_name', 'comment_count',\n",
    "       'description', 'fb_likecount', 'fb_sharecount',\n",
    "       'gplus_count', 'hashtags', 'image_url', 'like_count',\n",
    "       'link', 'linkedin_sharecount', 'links', 'pin_id', 'pin_url',\n",
    "       'pin_count', 'post_type', 'repin_count', 'summary',\n",
    "       'thumbnail_url', 'title', 'tweet_count']\n",
    "\n",
    "master_pinblog[\"links_count\"] = master_pinblog['links'].str.len()"
   ]
  },
  {
   "cell_type": "code",
   "execution_count": 75,
   "metadata": {},
   "outputs": [],
   "source": [
    "df_new = master_pinblog"
   ]
  },
  {
   "cell_type": "code",
   "execution_count": 76,
   "metadata": {
    "collapsed": true
   },
   "outputs": [],
   "source": [
    "df_new.link = df_new.link.astype(str)"
   ]
  },
  {
   "cell_type": "code",
   "execution_count": 77,
   "metadata": {
    "collapsed": true
   },
   "outputs": [],
   "source": [
    "def create_blogs_df(df):\n",
    "    # create new df called blogs that only contains blogs\n",
    "    blogs = df[df.type == 'blog post']\n",
    "    blogs.reset_index(inplace = True)\n",
    "\n",
    "    # converts link to string so we can split\n",
    "    blogs.link = blogs.link.astype(str)\n",
    "    # instantiate a new list called new_mag\n",
    "    new_mag = []\n",
    "    # list comprehension that just keeps part before '.com'\n",
    "    # we can use list comprehension because this is true for all values\n",
    "    magazine = [i.split('.com')[0] for i in blogs.link]\n",
    "    # start for loop to get rid of everything before the name of the magazine\n",
    "    for i in magazine:\n",
    "        if '.' in i:\n",
    "            new_mag.append(i.split('.')[1])\n",
    "    # if there isn't a '.' it just sends the existing name to the list\n",
    "        else:\n",
    "            new_mag.append(i)\n",
    "    # create new column for the blog df with the publications\n",
    "    blogs['pub'] = new_mag\n",
    "    \n",
    "    return blogs"
   ]
  },
  {
   "cell_type": "code",
   "execution_count": 78,
   "metadata": {
    "collapsed": true
   },
   "outputs": [],
   "source": [
    "def publication_df(df, publication):\n",
    "    pubs = df[df['pub'] == publication]\n",
    "    return pubs"
   ]
  },
  {
   "cell_type": "code",
   "execution_count": 79,
   "metadata": {
    "collapsed": true
   },
   "outputs": [],
   "source": [
    "def lemmatizing(df, series, stop_words = True):\n",
    "    lemmatizer = WordNetLemmatizer()\n",
    "    en_stop = get_stop_words('en')\n",
    "    # when a word is lemmatized, contractions are rightfully turned into different stems since 's = is\n",
    "    # however, in reality, all of those words are themselves stop words, so I want to exclude them\n",
    "    # question marks and the like are not helpful for our purpose of figuring out potential categories\n",
    "    contractions = [\"'s\",\"s\",\"'\",\".\",\",\",\"n't\",\"'d\",\"ll\",\"re\",\"ve\",\"``\",\n",
    "                    \"''\",\"”\",\"“\",\"’\",\"(\",\")\",\"?\",\":\",\"t\",\";\",\"d\",\"!\",\"-\",\"[\",\"]\",\"w\",\"#\",\"m\"]\n",
    "    # list for tokenized documents in loop\n",
    "    texts = []\n",
    "\n",
    "    # loop through document list\n",
    "    post_text = [i for i in df[series]]\n",
    "    count = 1\n",
    "    print(f\"Initializing tokenizer and lemmatizer ...\")\n",
    "    print(\"Number of posts tokenized and lemmatized:\")\n",
    "    for i in post_text:\n",
    "        # clean and tokenize document string\n",
    "        raw = i.lower()\n",
    "        tokens = word_tokenize(raw)\n",
    "        \n",
    "        if stop_words:\n",
    "            # stem tokens and remove stop words\n",
    "            lemmed_tokens = [lemmatizer.lemmatize(i) for i in tokens if not i in en_stop]\n",
    "        else:\n",
    "            lemmed_tokens = [lemmatizer.lemmatize(i) for i in tokens]\n",
    "        \n",
    "        #remove stemmed contractions\n",
    "        contracted_tokens = [i for i in lemmed_tokens if not i in contractions]\n",
    "\n",
    "        # add tokens to list\n",
    "        texts.append(contracted_tokens)\n",
    "        if count % 5000 == 0:\n",
    "            print(count)\n",
    "        count += 1\n",
    "    print(\"Lemmatizing Completed.\")\n",
    "    return texts"
   ]
  },
  {
   "cell_type": "code",
   "execution_count": 80,
   "metadata": {
    "collapsed": true
   },
   "outputs": [],
   "source": [
    "def remove_stop_words(list_):\n",
    "    print('Removing stop words...')\n",
    "    en_stop = get_stop_words('en')\n",
    "    no_stop_words = [i for i in list_ if not i in en_stop]\n",
    "    print('Stop Word Removal Complete.')\n",
    "    return no_stop_words"
   ]
  },
  {
   "cell_type": "code",
   "execution_count": 81,
   "metadata": {},
   "outputs": [],
   "source": [
    "def title_feature_extraction(df, lem_list):\n",
    "    print('Initializing title feature extraction...')\n",
    "    print('Initializing word count for title length of **blogs**...')\n",
    "    # need to tokenize and lemmatize to count the length\n",
    "    stopped_titles = remove_stop_words(lem_list)\n",
    "    # adding to dataframe\n",
    "    df['title_length'] = [len(stopped_titles[i]) for i in range(len(stopped_titles))]\n",
    "\n",
    "    print('Extracting other attributes from titles...')\n",
    "    # the following code is a bunch of different feature extractions for the titles\n",
    "    df['title_is_question'] = ['?' in i for i in df.title]\n",
    "    df['title_contains_number'] = [any(x in i for x in ['1','2','3','4','5','6','7','8','9','0']) for i in df['title']]\n",
    "    df['title_contains_best'] = ['best' in i.lower() for i in df.title]\n",
    "    df['title_contains_sex'] = ['sex' in i.lower() for i in df.title]\n",
    "    df['title_contains_now'] = ['now' in i.lower() for i in df.title]\n",
    "    df['title_contains_new'] = ['new' in i.lower() for i in df.title]\n",
    "    df['title_contains_episode'] = ['episode' in i.lower() for i in df.title]\n",
    "    df['title_contains_how'] = ['how' in i.lower() for i in df.title]\n",
    "\n",
    "    print('Title Feature Extraction Complete')\n",
    "    full_df = df\n",
    "    return full_df"
   ]
  },
  {
   "cell_type": "code",
   "execution_count": 82,
   "metadata": {},
   "outputs": [],
   "source": [
    "# function to identify different groupings of words which count as topics\n",
    "def topic_modeling(df, lem_list,number_of_topics = 5,number_of_words = 30,number_of_passes = 3):\n",
    "    print(\"Initializing Topic Modeling...\")\n",
    "    # turn our tokenized documents into a id <-> term dictionary\n",
    "    dictionary = corpora.Dictionary(lem_list)\n",
    "    # convert tokenized documents into a document-term matrix\n",
    "    corpus = [dictionary.doc2bow(text) for text in lem_list]\n",
    "    # generate LDA model\n",
    "    print(\"Generating Model...\")\n",
    "    ldamodel = gensim.models.ldamodel.LdaModel(corpus, num_topics=number_of_topics, id2word = dictionary, passes=number_of_passes)\n",
    "    topics = ldamodel.print_topics(num_topics=number_of_topics, num_words=number_of_words)\n",
    "    print(\"Topics\\n\")\n",
    "    for i in range(number_of_topics):\n",
    "        print(f\"Topic {topics[i][0]}: \\n\")\n",
    "        print(topics[i][1], \"\\n\")\n",
    "    #return ldamodel[corpus]\n",
    "    topic_vector = ldamodel[corpus]\n",
    "    #return topic_vector\n",
    "    print(\"Adding topic probabilities to DataFrame...\")\n",
    "    for j in range(number_of_topics):\n",
    "        print(f'Adding Topic {j}...')\n",
    "        df[\"Topic_{}\".format(j)] = [topic_vector[i][j][1] if len(topic_vector[i]) == number_of_topics else np.NaN for i in range(len(topic_vector))]\n",
    "    print(\"Topic Modeling Complete.\")\n",
    "    return df"
   ]
  },
  {
   "cell_type": "code",
   "execution_count": 83,
   "metadata": {},
   "outputs": [
    {
     "name": "stdout",
     "output_type": "stream",
     "text": [
      "Initializing tokenizer and lemmatizer ...\n",
      "Number of posts tokenized and lemmatized:\n",
      "5000\n",
      "10000\n",
      "Lemmatizing Completed.\n",
      "Initializing title feature extraction...\n",
      "Initializing word count for title length of **blogs**...\n",
      "Removing stop words...\n",
      "Stop Word Removal Complete.\n",
      "Extracting other attributes from titles...\n",
      "Title Feature Extraction Complete\n",
      "Initializing Topic Modeling...\n",
      "Generating Model...\n",
      "Topics\n",
      "\n",
      "Topic 0: \n",
      "\n",
      "0.055*\"the\" + 0.025*\"and\" + 0.019*\"is\" + 0.016*\"in\" + 0.014*\"of\" + 0.012*\"about\" + 0.010*\"on\" + 0.010*\"for\" + 0.009*\"a\" + 0.009*\"with\" + 0.009*\"new\" + 0.008*\"are\" + 0.006*\"up\" + 0.005*\"2016\" + 0.005*\"star\" + 0.005*\"most\" + 0.005*\"to\" + 0.005*\"open\" + 0.004*\"it\" + 0.004*\"their\" + 0.004*\"woman\" + 0.004*\"here\" + 0.004*\"girl\" + 0.004*\"from\" + 0.004*\"blake\" + 0.004*\"first\" + 0.004*\"lively\" + 0.003*\"that\" + 0.003*\"obama\" + 0.003*\"just\" \n",
      "\n",
      "Topic 1: \n",
      "\n",
      "0.031*\"the\" + 0.026*\"to\" + 0.024*\"for\" + 0.018*\"and\" + 0.016*\"a\" + 0.015*\"best\" + 0.015*\"summer\" + 0.012*\"your\" + 0.011*\"is\" + 0.009*\"are\" + 0.009*\"that\" + 0.008*\"this\" + 0.007*\"outfit\" + 0.007*\"beauty\" + 0.007*\"from\" + 0.007*\"$\" + 0.007*\"trend\" + 0.007*\"idea\" + 0.006*\"wear\" + 0.006*\"hair\" + 0.006*\"new\" + 0.006*\"makeup\" + 0.006*\"you\" + 0.006*\"on\" + 0.006*\"how\" + 0.005*\"at\" + 0.005*\"fashion\" + 0.005*\"style\" + 0.005*\"skin\" + 0.005*\"now\" \n",
      "\n",
      "Topic 2: \n",
      "\n",
      "0.051*\"to\" + 0.032*\"you\" + 0.024*\"a\" + 0.018*\"your\" + 0.017*\"how\" + 0.016*\"the\" + 0.014*\"what\" + 0.011*\"it\" + 0.011*\"woman\" + 0.010*\"i\" + 0.009*\"why\" + 0.009*\"trump\" + 0.009*\"be\" + 0.008*\"do\" + 0.008*\"for\" + 0.008*\"have\" + 0.008*\"here\" + 0.007*\"sex\" + 0.007*\"about\" + 0.007*\"on\" + 0.007*\"get\" + 0.007*\"in\" + 0.007*\"of\" + 0.006*\"are\" + 0.006*\"my\" + 0.006*\"is\" + 0.006*\"should\" + 0.006*\"donald\" + 0.006*\"this\" + 0.006*\"work\" \n",
      "\n",
      "Topic 3: \n",
      "\n",
      "0.027*\"a\" + 0.025*\"and\" + 0.022*\"the\" + 0.021*\"of\" + 0.018*\"in\" + 0.014*\"her\" + 0.013*\"is\" + 0.009*\"to\" + 0.008*\"new\" + 0.008*\"this\" + 0.007*\"jenner\" + 0.007*\"for\" + 0.007*\"on\" + 0.007*\"kardashian\" + 0.006*\"with\" + 0.006*\"just\" + 0.005*\"show\" + 0.005*\"season\" + 0.005*\"are\" + 0.005*\"kim\" + 0.005*\"kylie\" + 0.004*\"recap\" + 0.004*\"photo\" + 0.004*\"game\" + 0.004*\"she\" + 0.004*\"watch\" + 0.004*\"about\" + 0.004*\"dress\" + 0.004*\"throne\" + 0.004*\"that\" \n",
      "\n",
      "Topic 4: \n",
      "\n",
      "0.051*\"the\" + 0.021*\"2016\" + 0.020*\"of\" + 0.017*\"is\" + 0.016*\"and\" + 0.016*\"her\" + 0.012*\"on\" + 0.012*\"a\" + 0.009*\"this\" + 0.009*\"at\" + 0.009*\"taylor\" + 0.008*\"swift\" + 0.008*\"woman\" + 0.008*\"with\" + 0.008*\"in\" + 0.007*\"new\" + 0.007*\"best\" + 0.006*\"from\" + 0.006*\"look\" + 0.006*\"red\" + 0.006*\"all\" + 0.006*\"selena\" + 0.006*\"gomez\" + 0.005*\"to\" + 0.005*\"clinton\" + 0.005*\"hair\" + 0.005*\"year\" + 0.005*\"she\" + 0.005*\"award\" + 0.005*\"for\" \n",
      "\n",
      "Adding topic probabilities to DataFrame...\n",
      "Adding Topic 0...\n",
      "Adding Topic 1...\n",
      "Adding Topic 2...\n",
      "Adding Topic 3...\n",
      "Adding Topic 4...\n",
      "Topic Modeling Complete.\n"
     ]
    }
   ],
   "source": [
    "df = create_blogs_df(df_new)\n",
    "df = publication_df(df, 'glamour')\n",
    "lemmatized_titles = lemmatizing(df, 'title', stop_words = False)\n",
    "df = title_feature_extraction(df, lemmatized_titles)\n",
    "df = topic_modeling(df, lem_list = lemmatized_titles)"
   ]
  },
  {
   "cell_type": "code",
   "execution_count": null,
   "metadata": {
    "collapsed": true
   },
   "outputs": [],
   "source": []
  }
 ],
 "metadata": {
  "kernelspec": {
   "display_name": "Python 3",
   "language": "python",
   "name": "python3"
  },
  "language_info": {
   "codemirror_mode": {
    "name": "ipython",
    "version": 3
   },
   "file_extension": ".py",
   "mimetype": "text/x-python",
   "name": "python",
   "nbconvert_exporter": "python",
   "pygments_lexer": "ipython3",
   "version": "3.6.2"
  }
 },
 "nbformat": 4,
 "nbformat_minor": 2
}
