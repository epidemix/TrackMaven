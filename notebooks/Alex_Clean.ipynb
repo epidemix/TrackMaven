{
 "cells": [
  {
   "cell_type": "code",
   "execution_count": 2,
   "metadata": {
    "collapsed": true
   },
   "outputs": [],
   "source": [
    "import pandas as pd\n",
    "import numpy as np\n",
    "import nltk\n",
    "from stop_words import get_stop_words\n",
    "from nltk import word_tokenize\n",
    "from nltk.stem.snowball import SnowballStemmer\n",
    "from nltk.stem import WordNetLemmatizer\n",
    "from gensim import corpora, models\n",
    "import gensim\n",
    "import pyLDAvis.gensim"
   ]
  },
  {
   "cell_type": "code",
   "execution_count": 3,
   "metadata": {
    "collapsed": true
   },
   "outputs": [],
   "source": [
    "df = pd.read_json('https://s3.amazonaws.com/temp-data-pulls/newdump.json')"
   ]
  },
  {
   "cell_type": "code",
   "execution_count": 7,
   "metadata": {
    "collapsed": true
   },
   "outputs": [],
   "source": [
    "pd.options.mode.chained_assignment = None\n",
    "rawpin_blog = df[(df[\"type\"]==\"pin\") | (df[\"type\"]==\"blog post\")]\n",
    "rawpin_blog.drop([\"has_spend\"], axis = 1, inplace=True)\n",
    "channel_info = rawpin_blog['channel_info'].apply(pd.Series)\n",
    "channel_info.columns = [\"channel\", \"info\"]\n",
    "content_info = rawpin_blog['content'].apply(pd.Series)\n",
    "content_info.drop(['author_email', 'content', 'pinned_from'], axis=1, inplace=True) ## THESE HAVE ONLY NULLS\n",
    "for x in content_info.columns:\n",
    "    if \"count\" in x:\n",
    "        content_info[x].fillna(np.NaN, inplace = True)\n",
    "        #content_info[x] = content_info[x].astype(int)\n",
    "master_pinblog = rawpin_blog.join(channel_info).join(content_info)\n",
    "master_pinblog.drop(['channel_info', 'content'], axis = 1, inplace = True)\n",
    "master_pinblog.columns = ['brand', 'engagement', 'uniqueid', 'impact', 'share_token', 'timestamp',\n",
    "       'type', 'urls', 'channel', 'info', 'author_name', 'comment_count',\n",
    "       'description', 'fb_likecount', 'fb_sharecount',\n",
    "       'gplus_count', 'hashtags', 'image_url', 'like_count',\n",
    "       'link', 'linkedin_sharecount', 'links', 'pin_id', 'pin_url',\n",
    "       'pin_count', 'post_type', 'repin_count', 'summary',\n",
    "       'thumbnail_url', 'title', 'tweet_count']\n",
    "\n",
    "master_pinblog[\"links_count\"] = master_pinblog['links'].str.len()"
   ]
  },
  {
   "cell_type": "code",
   "execution_count": 56,
   "metadata": {},
   "outputs": [],
   "source": [
    "df_new = master_pinblog"
   ]
  },
  {
   "cell_type": "code",
   "execution_count": 57,
   "metadata": {
    "collapsed": true
   },
   "outputs": [],
   "source": [
    "df_new.link = df_new.link.astype(str)"
   ]
  },
  {
   "cell_type": "code",
   "execution_count": 67,
   "metadata": {
    "collapsed": true
   },
   "outputs": [],
   "source": [
    "def create_blogs_df(df):\n",
    "    # create new df called blogs that only contains blogs\n",
    "    blogs = df[df.type == 'blog post']\n",
    "    blogs.reset_index(inplace = True)\n",
    "\n",
    "    # converts link to string so we can split\n",
    "    blogs.link = blogs.link.astype(str)\n",
    "    # instantiate a new list called new_mag\n",
    "    new_mag = []\n",
    "    # list comprehension that just keeps part before '.com'\n",
    "    # we can use list comprehension because this is true for all values\n",
    "    magazine = [i.split('.com')[0] for i in blogs.link]\n",
    "    # start for loop to get rid of everything before the name of the magazine\n",
    "    for i in magazine:\n",
    "        if '.' in i:\n",
    "            new_mag.append(i.split('.')[1])\n",
    "    # if there isn't a '.' it just sends the existing name to the list\n",
    "        else:\n",
    "            new_mag.append(i)\n",
    "    # create new column for the blog df with the publications\n",
    "    blogs['pub'] = new_mag\n",
    "    \n",
    "    return blogs"
   ]
  },
  {
   "cell_type": "code",
   "execution_count": 68,
   "metadata": {
    "collapsed": true
   },
   "outputs": [],
   "source": [
    "def publication_df(df, publication):\n",
    "    pubs = df[df['pub'] == publication]\n",
    "    return pubs"
   ]
  },
  {
   "cell_type": "code",
   "execution_count": 69,
   "metadata": {
    "collapsed": true
   },
   "outputs": [],
   "source": [
    "def lemmatizing(df, series, stop_words = True):\n",
    "    lemmatizer = WordNetLemmatizer()\n",
    "    en_stop = get_stop_words('en')\n",
    "    # when a word is lemmatized, contractions are rightfully turned into different stems since 's = is\n",
    "    # however, in reality, all of those words are themselves stop words, so I want to exclude them\n",
    "    # question marks and the like are not helpful for our purpose of figuring out potential categories\n",
    "    contractions = [\"'s\",\"s\",\"'\",\".\",\",\",\"n't\",\"'d\",\"ll\",\"re\",\"ve\",\"``\",\n",
    "                    \"''\",\"”\",\"“\",\"’\",\"(\",\")\",\"?\",\":\",\"t\",\";\",\"d\",\"!\",\"-\",\"[\",\"]\",\"w\",\"#\",\"m\"]\n",
    "    # list for tokenized documents in loop\n",
    "    texts = []\n",
    "\n",
    "    # loop through document list\n",
    "    post_text = [i for i in df[series]]\n",
    "    count = 1\n",
    "    print(f\"Initializing tokenizer and lemmatizer ...\")\n",
    "    print(\"Number of posts tokenized and lemmatized:\")\n",
    "    for i in post_text:\n",
    "        # clean and tokenize document string\n",
    "        raw = i.lower()\n",
    "        tokens = word_tokenize(raw)\n",
    "        \n",
    "        if stop_words:\n",
    "            # stem tokens and remove stop words\n",
    "            lemmed_tokens = [lemmatizer.lemmatize(i) for i in tokens if not i in en_stop]\n",
    "        else:\n",
    "            lemmed_tokens = [lemmatizer.lemmatize(i) for i in tokens]\n",
    "        \n",
    "        #remove stemmed contractions\n",
    "        contracted_tokens = [i for i in lemmed_tokens if not i in contractions]\n",
    "\n",
    "        # add tokens to list\n",
    "        texts.append(contracted_tokens)\n",
    "        if count % 5000 == 0:\n",
    "            print(count)\n",
    "        count += 1\n",
    "    print(\"Lemmatizing Completed.\")\n",
    "    return texts"
   ]
  },
  {
   "cell_type": "code",
   "execution_count": 70,
   "metadata": {
    "collapsed": true
   },
   "outputs": [],
   "source": [
    "def remove_stop_words(list_ = lemmatized_titles):\n",
    "    print('Removing stop words...')\n",
    "    en_stop = get_stop_words('en')\n",
    "    no_stop_words = [i for i in list_ if not i in en_stop]\n",
    "    print('Stop Word Removal Complete.')\n",
    "    return no_stop_words"
   ]
  },
  {
   "cell_type": "code",
   "execution_count": 71,
   "metadata": {},
   "outputs": [],
   "source": [
    "def title_feature_extraction(df, lem_list = lemmatized_titles):\n",
    "    print('Initializing title feature extraction...')\n",
    "    print('Initializing word count for title length of **blogs**...')\n",
    "    # need to tokenize and lemmatize to count the length\n",
    "    stopped_titles = remove_stop_words(lem_list)\n",
    "    # adding to dataframe\n",
    "    df['title_length'] = [len(stopped_titles[i]) for i in range(len(stopped_titles))]\n",
    "\n",
    "    print('Extracting other attributes from titles...')\n",
    "    # the following code is a bunch of different feature extractions for the titles\n",
    "    df['title_is_question'] = ['?' in i for i in df.title]\n",
    "    df['title_contains_number'] = [any(x in i for x in ['1','2','3','4','5','6','7','8','9','0']) for i in df['title']]\n",
    "    df['title_contains_best'] = ['best' in i.lower() for i in df.title]\n",
    "    df['title_contains_sex'] = ['sex' in i.lower() for i in df.title]\n",
    "    df['title_contains_now'] = ['now' in i.lower() for i in df.title]\n",
    "    df['title_contains_new'] = ['new' in i.lower() for i in df.title]\n",
    "    df['title_contains_episode'] = ['episode' in i.lower() for i in df.title]\n",
    "    df['title_contains_how'] = ['how' in i.lower() for i in df.title]\n",
    "\n",
    "    print('Title Feature Extraction Complete')\n",
    "    full_df = df\n",
    "    return full_df"
   ]
  },
  {
   "cell_type": "code",
   "execution_count": 74,
   "metadata": {},
   "outputs": [],
   "source": [
    "# function to identify different groupings of words which count as topics\n",
    "def topic_modeling(df = df, lem_list = lemmatized_titles,number_of_topics = 5,number_of_words = 30,number_of_passes = 3):\n",
    "    print(\"Initializing Topic Modeling...\")\n",
    "    # turn our tokenized documents into a id <-> term dictionary\n",
    "    dictionary = corpora.Dictionary(lem_list)\n",
    "    # convert tokenized documents into a document-term matrix\n",
    "    corpus = [dictionary.doc2bow(text) for text in lem_list]\n",
    "    # generate LDA model\n",
    "    print(\"Generating Model...\")\n",
    "    ldamodel = gensim.models.ldamodel.LdaModel(corpus, num_topics=number_of_topics, id2word = dictionary, passes=number_of_passes)\n",
    "    topics = ldamodel.print_topics(num_topics=number_of_topics, num_words=number_of_words)\n",
    "    print(\"Topics\\n\")\n",
    "    for i in range(number_of_topics):\n",
    "        print(f\"Topic {topics[i][0]}: \\n\")\n",
    "        print(topics[i][1], \"\\n\")\n",
    "    #return ldamodel[corpus]\n",
    "    topic_vector = ldamodel[corpus]\n",
    "    #return topic_vector\n",
    "    print(\"Adding topic probabilities to DataFrame...\")\n",
    "    for j in range(number_of_topics):\n",
    "        print(f'Adding Topic {j}...')\n",
    "        df[\"Topic_{}\".format(j)] = [topic_vector[i][j][1] if len(topic_vector[i]) == number_of_topics else np.NaN for i in range(len(topic_vector))]\n",
    "    print(\"Topic Modeling Complete.\")\n",
    "    return df"
   ]
  },
  {
   "cell_type": "code",
   "execution_count": 73,
   "metadata": {},
   "outputs": [
    {
     "name": "stdout",
     "output_type": "stream",
     "text": [
      "Initializing tokenizer and lemmatizer ...\n",
      "Number of posts tokenized and lemmatized:\n",
      "5000\n",
      "10000\n",
      "Lemmatizing Completed.\n",
      "Initializing title feature extraction...\n",
      "Initializing word count for title length of **blogs**...\n",
      "Removing stop words...\n",
      "Stop Word Removal Complete.\n",
      "Extracting other attributes from titles...\n",
      "Title Feature Extraction Complete\n",
      "Initializing Topic Modeling...\n",
      "Generating Model...\n",
      "Topics\n",
      "\n",
      "Topic 0: \n",
      "\n",
      "0.021*\"a\" + 0.020*\"her\" + 0.016*\"and\" + 0.014*\"is\" + 0.013*\"the\" + 0.012*\"on\" + 0.011*\"for\" + 0.009*\"to\" + 0.009*\"clinton\" + 0.008*\"with\" + 0.008*\"in\" + 0.008*\"new\" + 0.008*\"hillary\" + 0.007*\"just\" + 0.006*\"obama\" + 0.006*\"kardashian\" + 0.005*\"emma\" + 0.005*\"of\" + 0.004*\"blake\" + 0.004*\"ring\" + 0.004*\"little\" + 0.004*\"tatum\" + 0.004*\"engagement\" + 0.004*\"picture\" + 0.004*\"ryan\" + 0.004*\"recap\" + 0.004*\"she\" + 0.004*\"lively\" + 0.004*\"season\" + 0.004*\"day\" \n",
      "\n",
      "Topic 1: \n",
      "\n",
      "0.046*\"the\" + 0.032*\"and\" + 0.021*\"of\" + 0.016*\"best\" + 0.015*\"summer\" + 0.012*\"is\" + 0.012*\"for\" + 0.012*\"on\" + 0.009*\"a\" + 0.008*\"hair\" + 0.008*\"her\" + 0.007*\"are\" + 0.007*\"look\" + 0.007*\"from\" + 0.007*\"that\" + 0.007*\"makeup\" + 0.007*\"outfit\" + 0.007*\"with\" + 0.006*\"jenner\" + 0.006*\"celebrity\" + 0.006*\"photo\" + 0.006*\"new\" + 0.006*\"all\" + 0.006*\"in\" + 0.005*\"red\" + 0.005*\"instagram\" + 0.005*\"hadid\" + 0.005*\"2017\" + 0.005*\"selena\" + 0.005*\"gomez\" \n",
      "\n",
      "Topic 2: \n",
      "\n",
      "0.043*\"the\" + 0.021*\"to\" + 0.020*\"and\" + 0.020*\"of\" + 0.016*\"in\" + 0.015*\"a\" + 0.012*\"is\" + 0.009*\"you\" + 0.009*\"about\" + 0.008*\"this\" + 0.008*\"for\" + 0.008*\"at\" + 0.007*\"her\" + 0.007*\"do\" + 0.007*\"2016\" + 0.007*\"why\" + 0.006*\"show\" + 0.006*\"woman\" + 0.006*\"on\" + 0.006*\"taylor\" + 0.006*\"it\" + 0.006*\"new\" + 0.005*\"how\" + 0.005*\"swift\" + 0.005*\"i\" + 0.005*\"that\" + 0.004*\"we\" + 0.004*\"have\" + 0.004*\"with\" + 0.004*\"are\" \n",
      "\n",
      "Topic 3: \n",
      "\n",
      "0.033*\"a\" + 0.024*\"to\" + 0.018*\"the\" + 0.012*\"and\" + 0.012*\"is\" + 0.012*\"in\" + 0.011*\"trump\" + 0.011*\"of\" + 0.010*\"with\" + 0.009*\"woman\" + 0.008*\"on\" + 0.008*\"it\" + 0.008*\"this\" + 0.008*\"what\" + 0.007*\"donald\" + 0.007*\"i\" + 0.007*\"for\" + 0.006*\"how\" + 0.006*\"about\" + 0.006*\"like\" + 0.006*\"are\" + 0.005*\"new\" + 0.004*\"why\" + 0.004*\"just\" + 0.004*\"you\" + 0.004*\"she\" + 0.004*\"season\" + 0.004*\"9\" + 0.004*\"after\" + 0.003*\"have\" \n",
      "\n",
      "Topic 4: \n",
      "\n",
      "0.046*\"to\" + 0.032*\"the\" + 0.030*\"you\" + 0.023*\"your\" + 0.017*\"a\" + 0.015*\"how\" + 0.015*\"for\" + 0.012*\"is\" + 0.009*\"are\" + 0.009*\"in\" + 0.008*\"what\" + 0.008*\"woman\" + 0.008*\"here\" + 0.008*\"at\" + 0.007*\"be\" + 0.007*\"this\" + 0.006*\"can\" + 0.006*\"that\" + 0.006*\"2016\" + 0.006*\"get\" + 0.006*\"it\" + 0.005*\"best\" + 0.005*\"from\" + 0.005*\"new\" + 0.004*\"on\" + 0.004*\"know\" + 0.004*\"should\" + 0.004*\"about\" + 0.004*\"work\" + 0.004*\"need\" \n",
      "\n",
      "Adding topic probabilities to DataFrame...\n",
      "Adding Topic 0...\n",
      "Adding Topic 1...\n",
      "Adding Topic 2...\n",
      "Adding Topic 3...\n",
      "Adding Topic 4...\n"
     ]
    }
   ],
   "source": [
    "df = create_blogs_df(df_new)\n",
    "df = publication_df(df, 'glamour')\n",
    "lemmatized_titles = lemmatizing(df, 'title', stop_words = False)\n",
    "df = title_feature_extraction(df)\n",
    "df = topic_modeling()"
   ]
  },
  {
   "cell_type": "code",
   "execution_count": null,
   "metadata": {
    "collapsed": true
   },
   "outputs": [],
   "source": []
  }
 ],
 "metadata": {
  "kernelspec": {
   "display_name": "Python 3",
   "language": "python",
   "name": "python3"
  },
  "language_info": {
   "codemirror_mode": {
    "name": "ipython",
    "version": 3
   },
   "file_extension": ".py",
   "mimetype": "text/x-python",
   "name": "python",
   "nbconvert_exporter": "python",
   "pygments_lexer": "ipython3",
   "version": "3.6.2"
  }
 },
 "nbformat": 4,
 "nbformat_minor": 2
}
