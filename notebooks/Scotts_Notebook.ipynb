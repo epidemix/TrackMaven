{
 "cells": [
  {
   "cell_type": "code",
   "execution_count": 2,
   "metadata": {
    "collapsed": true
   },
   "outputs": [],
   "source": [
    "import pandas as pd\n",
    "import numpy as np\n"
   ]
  },
  {
   "cell_type": "code",
   "execution_count": 2,
   "metadata": {
    "collapsed": true
   },
   "outputs": [],
   "source": [
    "df = pd.read_json('https://s3.amazonaws.com/temp-data-pulls/newdump.json')"
   ]
  },
  {
   "cell_type": "code",
   "execution_count": null,
   "metadata": {
    "collapsed": true
   },
   "outputs": [],
   "source": [
    "pd.set_option('display.max_colwidth', -10)\n",
    "pd.set_option('display.max_columns', None)"
   ]
  },
  {
   "cell_type": "code",
   "execution_count": 4,
   "metadata": {},
   "outputs": [
    {
     "ename": "KeyboardInterrupt",
     "evalue": "",
     "output_type": "error",
     "traceback": [
      "\u001b[0;31m---------------------------------------------------------------------------\u001b[0m",
      "\u001b[0;31mKeyboardInterrupt\u001b[0m                         Traceback (most recent call last)",
      "\u001b[0;32m<ipython-input-4-2f4184acbfbb>\u001b[0m in \u001b[0;36m<module>\u001b[0;34m()\u001b[0m\n\u001b[1;32m      4\u001b[0m \u001b[0mchannel_info\u001b[0m \u001b[0;34m=\u001b[0m \u001b[0mrawpin_blog\u001b[0m\u001b[0;34m[\u001b[0m\u001b[0;34m'channel_info'\u001b[0m\u001b[0;34m]\u001b[0m\u001b[0;34m.\u001b[0m\u001b[0mapply\u001b[0m\u001b[0;34m(\u001b[0m\u001b[0mpd\u001b[0m\u001b[0;34m.\u001b[0m\u001b[0mSeries\u001b[0m\u001b[0;34m)\u001b[0m\u001b[0;34m\u001b[0m\u001b[0m\n\u001b[1;32m      5\u001b[0m \u001b[0mchannel_info\u001b[0m\u001b[0;34m.\u001b[0m\u001b[0mcolumns\u001b[0m \u001b[0;34m=\u001b[0m \u001b[0;34m[\u001b[0m\u001b[0;34m\"channel\"\u001b[0m\u001b[0;34m,\u001b[0m \u001b[0;34m\"info\"\u001b[0m\u001b[0;34m]\u001b[0m\u001b[0;34m\u001b[0m\u001b[0m\n\u001b[0;32m----> 6\u001b[0;31m \u001b[0mcontent_info\u001b[0m \u001b[0;34m=\u001b[0m \u001b[0mrawpin_blog\u001b[0m\u001b[0;34m[\u001b[0m\u001b[0;34m'content'\u001b[0m\u001b[0;34m]\u001b[0m\u001b[0;34m.\u001b[0m\u001b[0mapply\u001b[0m\u001b[0;34m(\u001b[0m\u001b[0mpd\u001b[0m\u001b[0;34m.\u001b[0m\u001b[0mSeries\u001b[0m\u001b[0;34m)\u001b[0m\u001b[0;34m\u001b[0m\u001b[0m\n\u001b[0m\u001b[1;32m      7\u001b[0m \u001b[0mcontent_info\u001b[0m\u001b[0;34m.\u001b[0m\u001b[0mdrop\u001b[0m\u001b[0;34m(\u001b[0m\u001b[0;34m[\u001b[0m\u001b[0;34m'author_email'\u001b[0m\u001b[0;34m,\u001b[0m \u001b[0;34m'content'\u001b[0m\u001b[0;34m,\u001b[0m \u001b[0;34m'pinned_from'\u001b[0m\u001b[0;34m]\u001b[0m\u001b[0;34m,\u001b[0m \u001b[0maxis\u001b[0m\u001b[0;34m=\u001b[0m\u001b[0;36m1\u001b[0m\u001b[0;34m,\u001b[0m \u001b[0minplace\u001b[0m\u001b[0;34m=\u001b[0m\u001b[0;32mTrue\u001b[0m\u001b[0;34m)\u001b[0m \u001b[0;31m## THESE HAVE ONLY NULLS\u001b[0m\u001b[0;34m\u001b[0m\u001b[0m\n\u001b[1;32m      8\u001b[0m \u001b[0;32mfor\u001b[0m \u001b[0mx\u001b[0m \u001b[0;32min\u001b[0m \u001b[0mcontent_info\u001b[0m\u001b[0;34m.\u001b[0m\u001b[0mcolumns\u001b[0m\u001b[0;34m:\u001b[0m\u001b[0;34m\u001b[0m\u001b[0m\n",
      "\u001b[0;32m/Users/Scott/anaconda/lib/python3.6/site-packages/pandas/core/series.py\u001b[0m in \u001b[0;36mapply\u001b[0;34m(self, func, convert_dtype, args, **kwds)\u001b[0m\n\u001b[1;32m   2353\u001b[0m             \u001b[0;32melse\u001b[0m\u001b[0;34m:\u001b[0m\u001b[0;34m\u001b[0m\u001b[0m\n\u001b[1;32m   2354\u001b[0m                 \u001b[0mvalues\u001b[0m \u001b[0;34m=\u001b[0m \u001b[0mself\u001b[0m\u001b[0;34m.\u001b[0m\u001b[0masobject\u001b[0m\u001b[0;34m\u001b[0m\u001b[0m\n\u001b[0;32m-> 2355\u001b[0;31m                 \u001b[0mmapped\u001b[0m \u001b[0;34m=\u001b[0m \u001b[0mlib\u001b[0m\u001b[0;34m.\u001b[0m\u001b[0mmap_infer\u001b[0m\u001b[0;34m(\u001b[0m\u001b[0mvalues\u001b[0m\u001b[0;34m,\u001b[0m \u001b[0mf\u001b[0m\u001b[0;34m,\u001b[0m \u001b[0mconvert\u001b[0m\u001b[0;34m=\u001b[0m\u001b[0mconvert_dtype\u001b[0m\u001b[0;34m)\u001b[0m\u001b[0;34m\u001b[0m\u001b[0m\n\u001b[0m\u001b[1;32m   2356\u001b[0m \u001b[0;34m\u001b[0m\u001b[0m\n\u001b[1;32m   2357\u001b[0m         \u001b[0;32mif\u001b[0m \u001b[0mlen\u001b[0m\u001b[0;34m(\u001b[0m\u001b[0mmapped\u001b[0m\u001b[0;34m)\u001b[0m \u001b[0;32mand\u001b[0m \u001b[0misinstance\u001b[0m\u001b[0;34m(\u001b[0m\u001b[0mmapped\u001b[0m\u001b[0;34m[\u001b[0m\u001b[0;36m0\u001b[0m\u001b[0;34m]\u001b[0m\u001b[0;34m,\u001b[0m \u001b[0mSeries\u001b[0m\u001b[0;34m)\u001b[0m\u001b[0;34m:\u001b[0m\u001b[0;34m\u001b[0m\u001b[0m\n",
      "\u001b[0;32mpandas/_libs/src/inference.pyx\u001b[0m in \u001b[0;36mpandas._libs.lib.map_infer (pandas/_libs/lib.c:66645)\u001b[0;34m()\u001b[0m\n",
      "\u001b[0;32m/Users/Scott/anaconda/lib/python3.6/site-packages/pandas/core/series.py\u001b[0m in \u001b[0;36m__init__\u001b[0;34m(self, data, index, dtype, name, copy, fastpath)\u001b[0m\n\u001b[1;32m    246\u001b[0m             \u001b[0;32melse\u001b[0m\u001b[0;34m:\u001b[0m\u001b[0;34m\u001b[0m\u001b[0m\n\u001b[1;32m    247\u001b[0m                 data = _sanitize_array(data, index, dtype, copy,\n\u001b[0;32m--> 248\u001b[0;31m                                        raise_cast_failure=True)\n\u001b[0m\u001b[1;32m    249\u001b[0m \u001b[0;34m\u001b[0m\u001b[0m\n\u001b[1;32m    250\u001b[0m                 \u001b[0mdata\u001b[0m \u001b[0;34m=\u001b[0m \u001b[0mSingleBlockManager\u001b[0m\u001b[0;34m(\u001b[0m\u001b[0mdata\u001b[0m\u001b[0;34m,\u001b[0m \u001b[0mindex\u001b[0m\u001b[0;34m,\u001b[0m \u001b[0mfastpath\u001b[0m\u001b[0;34m=\u001b[0m\u001b[0;32mTrue\u001b[0m\u001b[0;34m)\u001b[0m\u001b[0;34m\u001b[0m\u001b[0m\n",
      "\u001b[0;32m/Users/Scott/anaconda/lib/python3.6/site-packages/pandas/core/series.py\u001b[0m in \u001b[0;36m_sanitize_array\u001b[0;34m(data, index, dtype, copy, raise_cast_failure)\u001b[0m\n\u001b[1;32m   2892\u001b[0m \u001b[0;34m\u001b[0m\u001b[0m\n\u001b[1;32m   2893\u001b[0m \u001b[0;34m\u001b[0m\u001b[0m\n\u001b[0;32m-> 2894\u001b[0;31m def _sanitize_array(data, index, dtype=None, copy=False,\n\u001b[0m\u001b[1;32m   2895\u001b[0m                     raise_cast_failure=False):\n\u001b[1;32m   2896\u001b[0m     \"\"\" sanitize input data to an ndarray, copy if specified, coerce to the\n",
      "\u001b[0;31mKeyboardInterrupt\u001b[0m: "
     ]
    }
   ],
   "source": [
    "pd.options.mode.chained_assignment = None\n",
    "rawpin_blog = df[(df[\"type\"]==\"pin\") | (df[\"type\"]==\"blog post\")]\n",
    "rawpin_blog.drop([\"has_spend\"], axis = 1, inplace=True)\n",
    "channel_info = rawpin_blog['channel_info'].apply(pd.Series)\n",
    "channel_info.columns = [\"channel\", \"info\"]\n",
    "content_info = rawpin_blog['content'].apply(pd.Series)\n",
    "content_info.drop(['author_email', 'content', 'pinned_from'], axis=1, inplace=True) ## THESE HAVE ONLY NULLS\n",
    "for x in content_info.columns:\n",
    "    if \"count\" in x:\n",
    "        content_info[x].fillna(np.NaN, inplace = True)\n",
    "        #content_info[x] = content_info[x].astype(int)\n",
    "master_pinblog = rawpin_blog.join(channel_info).join(content_info)\n",
    "master_pinblog.drop(['channel_info', 'content'], axis = 1, inplace = True)\n",
    "master_pinblog.columns = ['brand', 'engagement', 'uniqueid', 'impact', 'share_token', 'timestamp',\n",
    "       'type', 'urls', 'channel', 'info', 'author_name', 'comment_count',\n",
    "       'description', 'fb_likecount', 'fb_sharecount',\n",
    "       'gplus_count', 'hashtags', 'image_url', 'like_count',\n",
    "       'link', 'linkedin_sharecount', 'links', 'pin_id', 'pin_url',\n",
    "       'pin_count', 'post_type', 'repin_count', 'summary',\n",
    "       'thumbnail_url', 'title', 'tweet_count']\n",
    "\n",
    "master_pinblog[\"links_count\"] = master_pinblog['links'].str.len()\n",
    "df_new = master_pinblog"
   ]
  },
  {
   "cell_type": "code",
   "execution_count": null,
   "metadata": {
    "collapsed": true
   },
   "outputs": [],
   "source": [
    "df_new"
   ]
  },
  {
   "cell_type": "code",
   "execution_count": null,
   "metadata": {
    "collapsed": true
   },
   "outputs": [],
   "source": [
    "df_new.dtypes"
   ]
  },
  {
   "cell_type": "code",
   "execution_count": null,
   "metadata": {
    "collapsed": true,
    "scrolled": true
   },
   "outputs": [],
   "source": [
    "# create new df called blogs that only contains blogs\n",
    "blogs = df_new[df_new.type == 'blog post']\n",
    "# converts link to string so we can split\n",
    "blogs.link = blogs.link.astype(str)\n",
    "# instantiate a new list called new_mag\n",
    "new_mag = []\n",
    "# list comprehension that just keeps part before '.com'\n",
    "# we can use list comprehension because this is true for all values\n",
    "magazine = [i.split('.com')[0] for i in blogs.link]\n",
    "# start for loop to get rid of everything before the name of the magazine\n",
    "for i in magazine:\n",
    "    if '.' in i:\n",
    "        new_mag.append(i.split('.')[1])\n",
    "# if there isn't a '.' it just sends the existing name to the list\n",
    "    else:\n",
    "        new_mag.append(i)\n",
    "# create new column for the df with the publications\n",
    "blogs['pub'] = new_mag\n",
    "print(blogs.pub.unique())"
   ]
  },
  {
   "cell_type": "code",
   "execution_count": null,
   "metadata": {
    "collapsed": true
   },
   "outputs": [],
   "source": [
    "blogs.dtypes"
   ]
  },
  {
   "cell_type": "code",
   "execution_count": 17,
   "metadata": {
    "collapsed": true
   },
   "outputs": [],
   "source": [
    "import nltk\n",
    "from stop_words import get_stop_words\n",
    "from nltk import word_tokenize\n",
    "from nltk.stem.snowball import SnowballStemmer\n",
    "from gensim import corpora, models\n",
    "import gensim\n",
    "import pyLDAvis.gensim"
   ]
  },
  {
   "cell_type": "code",
   "execution_count": null,
   "metadata": {
    "collapsed": true,
    "scrolled": true
   },
   "outputs": [],
   "source": [
    "stemmer = SnowballStemmer(\"english\",ignore_stopwords=True)\n",
    "en_stop = get_stop_words('en')\n",
    "# when a word is stemmed, contractions are rightfully turned into different stems since 's = is\n",
    "# however, in reality, all of those words are themselves stop words, so I want to exclude them\n",
    "# question marks and the like are not helpful for our purpose of figuring out potential categories\n",
    "contractions = [\"'s\",\"s\",\"'\",\".\",\",\",\"n't\",\"'d\",\"ll\",\"re\",\"ve\",\"``\",\n",
    "                \"''\",\"”\",\"“\",\"’\",\"(\",\")\",\"?\",\":\",\"t\",\";\",\"d\",\"!\",\"-\",\"[\",\"]\",\"w\",\"#\"]\n",
    "# list for tokenized documents in loop\n",
    "texts = []\n",
    "\n",
    "# loop through document list\n",
    "post_text = [i for i in blogs.summary]\n",
    "count = 1\n",
    "print(\"Initializing tokenizer and stemmer...\")\n",
    "print(\"Number of posts tokenized and stemmed:\")\n",
    "for i in post_text:\n",
    "    # clean and tokenize document string\n",
    "    raw = i.lower()\n",
    "    tokens = word_tokenize(raw)\n",
    "    \n",
    "    # stem tokens and remove stop words\n",
    "    stemmed_tokens = [stemmer.stem(i) for i in tokens if not i in en_stop]\n",
    "    \n",
    "    #remove stemmed contractions\n",
    "    contracted_tokens = [i for i in stemmed_tokens if not i in contractions]\n",
    "    \n",
    "    # add tokens to list\n",
    "    texts.append(contracted_tokens)\n",
    "    if count % 5000 == 0:\n",
    "        print(count)\n",
    "    count += 1\n",
    "print(\"Stemming Completed.\")"
   ]
  },
  {
   "cell_type": "code",
   "execution_count": null,
   "metadata": {
    "collapsed": true
   },
   "outputs": [],
   "source": [
    "from sklearn.feature_extraction.text import TfidfVectorizer, CountVectorizer\n",
    "tvec20 = CountVectorizer(max_features = 20,stop_words='english')\n",
    "tfidf20  = pd.DataFrame(tvec20.fit_transform(blogs.title).todense(),columns=tvec20.get_feature_names())\n",
    "print(\"Top 20 tf-idf:\")\n",
    "print(tfidf20.sum().sort_values(ascending=False))"
   ]
  },
  {
   "cell_type": "code",
   "execution_count": null,
   "metadata": {
    "collapsed": true
   },
   "outputs": [],
   "source": [
    "from sklearn.feature_extraction.text import TfidfVectorizer, CountVectorizer\n",
    "tvec40 = CountVectorizer(max_features = 40,stop_words='english')\n",
    "tfidf40  = pd.DataFrame(tvec40.fit_transform(blogs.title).todense(),columns=tvec40.get_feature_names())\n",
    "print(\"Top 40 tf-idf:\")\n",
    "print(tfidf40.sum().sort_values(ascending=False))"
   ]
  },
  {
   "cell_type": "code",
   "execution_count": null,
   "metadata": {
    "collapsed": true
   },
   "outputs": [],
   "source": [
    "from sklearn.feature_extraction.text import TfidfVectorizer, CountVectorizer\n",
    "cvec40 = CountVectorizer(max_features = 40,stop_words='english')\n",
    "vec40  = pd.DataFrame(cvec40.fit_transform(blogs.summary).todense(),columns=cvec40.get_feature_names())\n",
    "print(\"Top 40 Most Used Words:\")\n",
    "print(vec40.sum().sort_values(ascending=False))"
   ]
  },
  {
   "cell_type": "code",
   "execution_count": null,
   "metadata": {
    "collapsed": true
   },
   "outputs": [],
   "source": [
    "# turn our tokenized documents into a id <-> term dictionary\n",
    "dictionary = corpora.Dictionary(texts)"
   ]
  },
  {
   "cell_type": "code",
   "execution_count": null,
   "metadata": {
    "collapsed": true
   },
   "outputs": [],
   "source": [
    "# convert tokenized documents into a document-term matrix\n",
    "corpus = [dictionary.doc2bow(text) for text in texts]"
   ]
  },
  {
   "cell_type": "code",
   "execution_count": null,
   "metadata": {
    "collapsed": true
   },
   "outputs": [],
   "source": [
    "# generate LDA model\n",
    "ldamodel = gensim.models.ldamodel.LdaModel(corpus, num_topics=10, id2word = dictionary, passes=1)\n",
    "print(ldamodel.print_topics(num_topics=10, num_words=10))"
   ]
  },
  {
   "cell_type": "code",
   "execution_count": null,
   "metadata": {
    "collapsed": true,
    "scrolled": true
   },
   "outputs": [],
   "source": [
    "vis = pyLDAvis.gensim.prepare(ldamodel, corpus, dictionary)\n",
    "pyLDAvis.display(vis)"
   ]
  },
  {
   "cell_type": "code",
   "execution_count": 3,
   "metadata": {},
   "outputs": [
    {
     "name": "stderr",
     "output_type": "stream",
     "text": [
      "/Users/Scott/anaconda/lib/python3.6/site-packages/IPython/core/interactiveshell.py:2717: DtypeWarning: Columns (8) have mixed types. Specify dtype option on import or set low_memory=False.\n",
      "  interactivity=interactivity, compiler=compiler, result=result)\n"
     ]
    }
   ],
   "source": [
    "blogposts = pd.read_csv('/Users/Scott/Documents/DSI 6 /Repo /TrackMaven/notebooks/BlogMaster.csv')"
   ]
  },
  {
   "cell_type": "code",
   "execution_count": 12,
   "metadata": {},
   "outputs": [],
   "source": [
    "#Changing the type of the coloumn to string format \n",
    "blogposts.blogpost = blogposts.blogpost.astype(str)"
   ]
  },
  {
   "cell_type": "code",
   "execution_count": 13,
   "metadata": {},
   "outputs": [],
   "source": [
    "# Putting the blogs into a list format \n",
    "string = [i for i in blogposts.blogpost]"
   ]
  },
  {
   "cell_type": "code",
   "execution_count": 14,
   "metadata": {
    "collapsed": true
   },
   "outputs": [],
   "source": [
    "import re "
   ]
  },
  {
   "cell_type": "code",
   "execution_count": 15,
   "metadata": {},
   "outputs": [],
   "source": [
    "result = [re.sub(r\"http\\S+\", \"\", i) for i in string]"
   ]
  },
  {
   "cell_type": "code",
   "execution_count": 16,
   "metadata": {},
   "outputs": [
    {
     "data": {
      "text/plain": [
       "' Here I am getting rid of the URLs. The URLs are annoyingly connected to other words so I decided to just \\nget rid of words that are over 13 characters long.'"
      ]
     },
     "execution_count": 16,
     "metadata": {},
     "output_type": "execute_result"
    }
   ],
   "source": [
    "result = [re.sub(\"\\S{13,}\", \"\", i) for i in string]\n",
    "''' Here I am getting rid of the URLs. The URLs are annoyingly connected to other words so I decided to just \n",
    "get rid of words that are over 13 characters long.'''"
   ]
  },
  {
   "cell_type": "code",
   "execution_count": 18,
   "metadata": {},
   "outputs": [],
   "source": [
    "blogposts.blogpost = result\n",
    "# Reconnecting the code back to the dataframe "
   ]
  },
  {
   "cell_type": "code",
   "execution_count": 19,
   "metadata": {
    "collapsed": true
   },
   "outputs": [],
   "source": [
    "from textblob import TextBlob\n",
    "#importing an NLP python language to find sentiment for the text "
   ]
  },
  {
   "cell_type": "code",
   "execution_count": 21,
   "metadata": {},
   "outputs": [],
   "source": [
    "wiki = [TextBlob(i).sentiment for i in blogposts.blogpost]\n",
    "#Itterating through the blogposts and assigning the TextBlob attribute to them."
   ]
  },
  {
   "cell_type": "code",
   "execution_count": 22,
   "metadata": {},
   "outputs": [
    {
     "data": {
      "text/plain": [
       "Sentiment(polarity=0.8, subjectivity=0.6)"
      ]
     },
     "execution_count": 22,
     "metadata": {},
     "output_type": "execute_result"
    }
   ],
   "source": [
    "TextBlob('Dogs are the best kind pets').sentiment\n",
    "#How this code is working. Poliarity is how positive or negative the text is. 1 being positive and -1 being negative\n",
    "#Subjectivity is how subjective the text is. 1 Being very subjective and 0 being objective. "
   ]
  },
  {
   "cell_type": "code",
   "execution_count": 23,
   "metadata": {
    "collapsed": true
   },
   "outputs": [],
   "source": [
    "blogposts['blog_polarity'] = [wiki[i].polarity for i in range(len(wiki))]\n",
    "# I am iterating through Blogs and assining a polarity to them. Then I am putting them into a new column "
   ]
  },
  {
   "cell_type": "code",
   "execution_count": 24,
   "metadata": {
    "collapsed": true
   },
   "outputs": [],
   "source": [
    "blogposts['blog_subjectivity'] = [wiki[i].subjectivity for i in range(len(wiki))]\n",
    "# I am iterating through Blogs and assining a subjectivity to them. Then I am putting them into a new column "
   ]
  },
  {
   "cell_type": "code",
   "execution_count": 25,
   "metadata": {},
   "outputs": [
    {
     "data": {
      "text/html": [
       "<div>\n",
       "<style>\n",
       "    .dataframe thead tr:only-child th {\n",
       "        text-align: right;\n",
       "    }\n",
       "\n",
       "    .dataframe thead th {\n",
       "        text-align: left;\n",
       "    }\n",
       "\n",
       "    .dataframe tbody tr th {\n",
       "        vertical-align: top;\n",
       "    }\n",
       "</style>\n",
       "<table border=\"1\" class=\"dataframe\">\n",
       "  <thead>\n",
       "    <tr style=\"text-align: right;\">\n",
       "      <th></th>\n",
       "      <th>Unnamed: 0</th>\n",
       "      <th>brand</th>\n",
       "      <th>engagement</th>\n",
       "      <th>uniqueid</th>\n",
       "      <th>impact</th>\n",
       "      <th>share_token</th>\n",
       "      <th>timestamp</th>\n",
       "      <th>type</th>\n",
       "      <th>urls</th>\n",
       "      <th>channel</th>\n",
       "      <th>...</th>\n",
       "      <th>summary</th>\n",
       "      <th>thumbnail_url</th>\n",
       "      <th>title</th>\n",
       "      <th>tweet_count</th>\n",
       "      <th>links_count</th>\n",
       "      <th>pub</th>\n",
       "      <th>blogpost</th>\n",
       "      <th>blogdetails</th>\n",
       "      <th>polarity</th>\n",
       "      <th>subjectivity</th>\n",
       "    </tr>\n",
       "  </thead>\n",
       "  <tbody>\n",
       "    <tr>\n",
       "      <th>0</th>\n",
       "      <td>0</td>\n",
       "      <td>137316</td>\n",
       "      <td>33</td>\n",
       "      <td>MTM3MzE2LTIwMTQ2MTUyX2Jsb2cgcG9zdF8xNzQ4Mw</td>\n",
       "      <td>0.057249</td>\n",
       "      <td>MUEF3US5L1fQ9o23xiryJN3K85bXD5n2I0Md_RII3LY</td>\n",
       "      <td>2017-11-16 02:00:00</td>\n",
       "      <td>blog post</td>\n",
       "      <td>[{'url': 'https://www.glamour.com/story/riverd...</td>\n",
       "      <td>blog</td>\n",
       "      <td>...</td>\n",
       "      <td>This week's episode of 'Riverdale' unveiled th...</td>\n",
       "      <td>https://media.glamour.com/photos/5a0cb482164c4...</td>\n",
       "      <td>'Riverdale' Season 2 Episode 6 Recap: Who Is t...</td>\n",
       "      <td>0.0</td>\n",
       "      <td>0</td>\n",
       "      <td>glamour</td>\n",
       "      <td>Tonight's episode of  was pretty standard: Jug...</td>\n",
       "      <td>{'@type': 'NewsArticle', 'headline': \"The Blac...</td>\n",
       "      <td>-0.073446</td>\n",
       "      <td>0.480521</td>\n",
       "    </tr>\n",
       "    <tr>\n",
       "      <th>1</th>\n",
       "      <td>1</td>\n",
       "      <td>137322</td>\n",
       "      <td>1</td>\n",
       "      <td>MTM3MzIyLTIwMTQ0MDE0X2Jsb2cgcG9zdF8xNzQ4Mw</td>\n",
       "      <td>0.000927</td>\n",
       "      <td>B0yFf6kIDBS9-poQ1Fyv2t3K85bXD5n2I0Md_RII3LY</td>\n",
       "      <td>2017-11-16 02:00:00</td>\n",
       "      <td>blog post</td>\n",
       "      <td>[{'url': 'https://www.teenvogue.com/story/rive...</td>\n",
       "      <td>blog</td>\n",
       "      <td>...</td>\n",
       "      <td>Find out what happened on \"Riverdale\" season 2...</td>\n",
       "      <td>https://assets.teenvogue.com/photos/5a0b864107...</td>\n",
       "      <td>\"Riverdale\" Recap Season 2 Episode 6: Who Is t...</td>\n",
       "      <td>0.0</td>\n",
       "      <td>0</td>\n",
       "      <td>teenvogue</td>\n",
       "      <td>__Each week, *Teen Vogue* will be taking you o...</td>\n",
       "      <td>{'@type': 'NewsArticle', 'headline': '\"Riverda...</td>\n",
       "      <td>0.079418</td>\n",
       "      <td>0.456985</td>\n",
       "    </tr>\n",
       "    <tr>\n",
       "      <th>2</th>\n",
       "      <td>2</td>\n",
       "      <td>137329</td>\n",
       "      <td>1077</td>\n",
       "      <td>MTM3MzI5LTIwMTQ0NzQ2X2Jsb2cgcG9zdF8xNzQ4Mw</td>\n",
       "      <td>2.625943</td>\n",
       "      <td>jByu9k_eNjDs0NyPjDTqvt3K85bXD5n2I0Md_RII3LY</td>\n",
       "      <td>2017-11-16 01:05:28</td>\n",
       "      <td>blog post</td>\n",
       "      <td>[{'url': 'https://www.wmagazine.com/story/leon...</td>\n",
       "      <td>blog</td>\n",
       "      <td>...</td>\n",
       "      <td>Leonardo da Vinci's once-lost \"Salvator Mundi\"...</td>\n",
       "      <td>https://media.wmagazine.com/photos/59dd2ae5a46...</td>\n",
       "      <td>Leonardo da Vinci's Salvator Mundi Painting Se...</td>\n",
       "      <td>0.0</td>\n",
       "      <td>0</td>\n",
       "      <td>wmagazine</td>\n",
       "      <td>Last month, it was revealed that a once-lost [...</td>\n",
       "      <td>{'@type': 'NewsArticle', 'headline': \"Leonardo...</td>\n",
       "      <td>0.009103</td>\n",
       "      <td>0.542439</td>\n",
       "    </tr>\n",
       "    <tr>\n",
       "      <th>3</th>\n",
       "      <td>3</td>\n",
       "      <td>137322</td>\n",
       "      <td>1</td>\n",
       "      <td>MTM3MzIyLTIwMTQ0MDE1X2Jsb2cgcG9zdF8xNzQ4Mw</td>\n",
       "      <td>0.000937</td>\n",
       "      <td>2l5jpXZ34bmotrXo0V_z1t3K85bXD5n2I0Md_RII3LY</td>\n",
       "      <td>2017-11-15 23:44:52</td>\n",
       "      <td>blog post</td>\n",
       "      <td>[{'url': 'https://www.teenvogue.com/story/made...</td>\n",
       "      <td>blog</td>\n",
       "      <td>...</td>\n",
       "      <td>\"F the Prom,\" a new movie starring Danielle Ca...</td>\n",
       "      <td>https://assets.teenvogue.com/photos/5a0cc15c11...</td>\n",
       "      <td>Madelaine Petsch and Danielle Campbell Star in...</td>\n",
       "      <td>0.0</td>\n",
       "      <td>0</td>\n",
       "      <td>teenvogue</td>\n",
       "      <td>[Madelaine  has proved on  that she can play a...</td>\n",
       "      <td>{'@type': 'NewsArticle', 'headline': '\"Mean Gi...</td>\n",
       "      <td>0.248575</td>\n",
       "      <td>0.427420</td>\n",
       "    </tr>\n",
       "    <tr>\n",
       "      <th>4</th>\n",
       "      <td>4</td>\n",
       "      <td>137329</td>\n",
       "      <td>3</td>\n",
       "      <td>MTM3MzI5LTIwMTQ0NzQ3X2Jsb2cgcG9zdF8xNzQ4Mw</td>\n",
       "      <td>0.006514</td>\n",
       "      <td>HUE4eXJv3ImpRfBokd2d5N3K85bXD5n2I0Md_RII3LY</td>\n",
       "      <td>2017-11-15 23:39:41</td>\n",
       "      <td>blog post</td>\n",
       "      <td>[{'url': 'https://www.wmagazine.com/story/get-...</td>\n",
       "      <td>blog</td>\n",
       "      <td>...</td>\n",
       "      <td>While Get Out has been submitted to the Golden...</td>\n",
       "      <td>https://media.wmagazine.com/photos/58ac4733aaa...</td>\n",
       "      <td>Is Get Out a Comedy or a Drama? Jordan Peele W...</td>\n",
       "      <td>0.0</td>\n",
       "      <td>0</td>\n",
       "      <td>wmagazine</td>\n",
       "      <td>Filmmaker [Jordan  has made a name for himself...</td>\n",
       "      <td>{'@type': 'NewsArticle', 'headline': 'Is Get O...</td>\n",
       "      <td>0.160922</td>\n",
       "      <td>0.501335</td>\n",
       "    </tr>\n",
       "  </tbody>\n",
       "</table>\n",
       "<p>5 rows × 38 columns</p>\n",
       "</div>"
      ],
      "text/plain": [
       "   Unnamed: 0   brand  engagement                                    uniqueid  \\\n",
       "0           0  137316          33  MTM3MzE2LTIwMTQ2MTUyX2Jsb2cgcG9zdF8xNzQ4Mw   \n",
       "1           1  137322           1  MTM3MzIyLTIwMTQ0MDE0X2Jsb2cgcG9zdF8xNzQ4Mw   \n",
       "2           2  137329        1077  MTM3MzI5LTIwMTQ0NzQ2X2Jsb2cgcG9zdF8xNzQ4Mw   \n",
       "3           3  137322           1  MTM3MzIyLTIwMTQ0MDE1X2Jsb2cgcG9zdF8xNzQ4Mw   \n",
       "4           4  137329           3  MTM3MzI5LTIwMTQ0NzQ3X2Jsb2cgcG9zdF8xNzQ4Mw   \n",
       "\n",
       "     impact                                  share_token            timestamp  \\\n",
       "0  0.057249  MUEF3US5L1fQ9o23xiryJN3K85bXD5n2I0Md_RII3LY  2017-11-16 02:00:00   \n",
       "1  0.000927  B0yFf6kIDBS9-poQ1Fyv2t3K85bXD5n2I0Md_RII3LY  2017-11-16 02:00:00   \n",
       "2  2.625943  jByu9k_eNjDs0NyPjDTqvt3K85bXD5n2I0Md_RII3LY  2017-11-16 01:05:28   \n",
       "3  0.000937  2l5jpXZ34bmotrXo0V_z1t3K85bXD5n2I0Md_RII3LY  2017-11-15 23:44:52   \n",
       "4  0.006514  HUE4eXJv3ImpRfBokd2d5N3K85bXD5n2I0Md_RII3LY  2017-11-15 23:39:41   \n",
       "\n",
       "        type                                               urls channel  \\\n",
       "0  blog post  [{'url': 'https://www.glamour.com/story/riverd...    blog   \n",
       "1  blog post  [{'url': 'https://www.teenvogue.com/story/rive...    blog   \n",
       "2  blog post  [{'url': 'https://www.wmagazine.com/story/leon...    blog   \n",
       "3  blog post  [{'url': 'https://www.teenvogue.com/story/made...    blog   \n",
       "4  blog post  [{'url': 'https://www.wmagazine.com/story/get-...    blog   \n",
       "\n",
       "       ...                                                 summary  \\\n",
       "0      ...       This week's episode of 'Riverdale' unveiled th...   \n",
       "1      ...       Find out what happened on \"Riverdale\" season 2...   \n",
       "2      ...       Leonardo da Vinci's once-lost \"Salvator Mundi\"...   \n",
       "3      ...       \"F the Prom,\" a new movie starring Danielle Ca...   \n",
       "4      ...       While Get Out has been submitted to the Golden...   \n",
       "\n",
       "                                       thumbnail_url  \\\n",
       "0  https://media.glamour.com/photos/5a0cb482164c4...   \n",
       "1  https://assets.teenvogue.com/photos/5a0b864107...   \n",
       "2  https://media.wmagazine.com/photos/59dd2ae5a46...   \n",
       "3  https://assets.teenvogue.com/photos/5a0cc15c11...   \n",
       "4  https://media.wmagazine.com/photos/58ac4733aaa...   \n",
       "\n",
       "                                               title  tweet_count  \\\n",
       "0  'Riverdale' Season 2 Episode 6 Recap: Who Is t...          0.0   \n",
       "1  \"Riverdale\" Recap Season 2 Episode 6: Who Is t...          0.0   \n",
       "2  Leonardo da Vinci's Salvator Mundi Painting Se...          0.0   \n",
       "3  Madelaine Petsch and Danielle Campbell Star in...          0.0   \n",
       "4  Is Get Out a Comedy or a Drama? Jordan Peele W...          0.0   \n",
       "\n",
       "   links_count        pub                                           blogpost  \\\n",
       "0            0    glamour  Tonight's episode of  was pretty standard: Jug...   \n",
       "1            0  teenvogue  __Each week, *Teen Vogue* will be taking you o...   \n",
       "2            0  wmagazine  Last month, it was revealed that a once-lost [...   \n",
       "3            0  teenvogue  [Madelaine  has proved on  that she can play a...   \n",
       "4            0  wmagazine  Filmmaker [Jordan  has made a name for himself...   \n",
       "\n",
       "                                         blogdetails  polarity  subjectivity  \n",
       "0  {'@type': 'NewsArticle', 'headline': \"The Blac... -0.073446      0.480521  \n",
       "1  {'@type': 'NewsArticle', 'headline': '\"Riverda...  0.079418      0.456985  \n",
       "2  {'@type': 'NewsArticle', 'headline': \"Leonardo...  0.009103      0.542439  \n",
       "3  {'@type': 'NewsArticle', 'headline': '\"Mean Gi...  0.248575      0.427420  \n",
       "4  {'@type': 'NewsArticle', 'headline': 'Is Get O...  0.160922      0.501335  \n",
       "\n",
       "[5 rows x 38 columns]"
      ]
     },
     "execution_count": 25,
     "metadata": {},
     "output_type": "execute_result"
    }
   ],
   "source": [
    "blogposts.head()"
   ]
  },
  {
   "cell_type": "code",
   "execution_count": 26,
   "metadata": {
    "collapsed": true
   },
   "outputs": [],
   "source": [
    "string1 = [i for i in blogposts.title]"
   ]
  },
  {
   "cell_type": "code",
   "execution_count": 84,
   "metadata": {},
   "outputs": [
    {
     "data": {
      "text/plain": [
       "'Is Get Out a Comedy or a Drama? Jordan Peele Weighs in on the Debate'"
      ]
     },
     "execution_count": 84,
     "metadata": {},
     "output_type": "execute_result"
    }
   ],
   "source": [
    "string1[4]"
   ]
  },
  {
   "cell_type": "code",
   "execution_count": 27,
   "metadata": {
    "collapsed": true
   },
   "outputs": [],
   "source": [
    "result1 = [re.sub(r\"http\\S+\", \"\", i) for i in string1]"
   ]
  },
  {
   "cell_type": "code",
   "execution_count": 28,
   "metadata": {
    "collapsed": true
   },
   "outputs": [],
   "source": [
    "result1 = [re.sub(\"\\S{13,}\", \"\", i) for i in string1]"
   ]
  },
  {
   "cell_type": "code",
   "execution_count": 29,
   "metadata": {
    "collapsed": true
   },
   "outputs": [],
   "source": [
    "blogposts.title = result1"
   ]
  },
  {
   "cell_type": "code",
   "execution_count": 40,
   "metadata": {
    "collapsed": true
   },
   "outputs": [],
   "source": [
    "wiki1 = [TextBlob(i).sentiment for i in blogposts.title]"
   ]
  },
  {
   "cell_type": "code",
   "execution_count": 77,
   "metadata": {},
   "outputs": [
    {
     "data": {
      "text/plain": [
       "Sentiment(polarity=0.1, subjectivity=0.4)"
      ]
     },
     "execution_count": 77,
     "metadata": {},
     "output_type": "execute_result"
    }
   ],
   "source": [
    "scott = TextBlob(\"People Sexiest Man Alive Blake Shelton's Homophobic and Racist Tweets\")\n",
    "scott.sentiment"
   ]
  },
  {
   "cell_type": "code",
   "execution_count": 85,
   "metadata": {},
   "outputs": [
    {
     "data": {
      "text/plain": [
       "Sentiment(polarity=0.0, subjectivity=0.0)"
      ]
     },
     "execution_count": 85,
     "metadata": {},
     "output_type": "execute_result"
    }
   ],
   "source": [
    "scott = TextBlob('Is Get Out a Comedy or a Drama? Jordan Peele Weighs in on the Debate')\n",
    "scott.sentiment"
   ]
  },
  {
   "cell_type": "code",
   "execution_count": 31,
   "metadata": {
    "collapsed": true
   },
   "outputs": [],
   "source": [
    "blogposts['title_polarity'] = [wiki1[i].polarity for i in range(len(wiki1))]"
   ]
  },
  {
   "cell_type": "code",
   "execution_count": 32,
   "metadata": {
    "collapsed": true
   },
   "outputs": [],
   "source": [
    "blogposts['title_subjectivity'] = [wiki1[i].subjectivity for i in range(len(wiki1))]"
   ]
  },
  {
   "cell_type": "code",
   "execution_count": 33,
   "metadata": {},
   "outputs": [
    {
     "data": {
      "text/html": [
       "<div>\n",
       "<style>\n",
       "    .dataframe thead tr:only-child th {\n",
       "        text-align: right;\n",
       "    }\n",
       "\n",
       "    .dataframe thead th {\n",
       "        text-align: left;\n",
       "    }\n",
       "\n",
       "    .dataframe tbody tr th {\n",
       "        vertical-align: top;\n",
       "    }\n",
       "</style>\n",
       "<table border=\"1\" class=\"dataframe\">\n",
       "  <thead>\n",
       "    <tr style=\"text-align: right;\">\n",
       "      <th></th>\n",
       "      <th>Unnamed: 0</th>\n",
       "      <th>brand</th>\n",
       "      <th>engagement</th>\n",
       "      <th>uniqueid</th>\n",
       "      <th>impact</th>\n",
       "      <th>share_token</th>\n",
       "      <th>timestamp</th>\n",
       "      <th>type</th>\n",
       "      <th>urls</th>\n",
       "      <th>channel</th>\n",
       "      <th>...</th>\n",
       "      <th>title</th>\n",
       "      <th>tweet_count</th>\n",
       "      <th>links_count</th>\n",
       "      <th>pub</th>\n",
       "      <th>blogpost</th>\n",
       "      <th>blogdetails</th>\n",
       "      <th>polarity</th>\n",
       "      <th>subjectivity</th>\n",
       "      <th>title_polarity</th>\n",
       "      <th>title_subjectivity</th>\n",
       "    </tr>\n",
       "  </thead>\n",
       "  <tbody>\n",
       "    <tr>\n",
       "      <th>0</th>\n",
       "      <td>0</td>\n",
       "      <td>137316</td>\n",
       "      <td>33</td>\n",
       "      <td>MTM3MzE2LTIwMTQ2MTUyX2Jsb2cgcG9zdF8xNzQ4Mw</td>\n",
       "      <td>0.057249</td>\n",
       "      <td>MUEF3US5L1fQ9o23xiryJN3K85bXD5n2I0Md_RII3LY</td>\n",
       "      <td>2017-11-16 02:00:00</td>\n",
       "      <td>blog post</td>\n",
       "      <td>[{'url': 'https://www.glamour.com/story/riverd...</td>\n",
       "      <td>blog</td>\n",
       "      <td>...</td>\n",
       "      <td>'Riverdale' Season 2 Episode 6 Recap: Who Is t...</td>\n",
       "      <td>0.0</td>\n",
       "      <td>0</td>\n",
       "      <td>glamour</td>\n",
       "      <td>Tonight's episode of  was pretty standard: Jug...</td>\n",
       "      <td>{'@type': 'NewsArticle', 'headline': \"The Blac...</td>\n",
       "      <td>-0.073446</td>\n",
       "      <td>0.480521</td>\n",
       "      <td>0.0</td>\n",
       "      <td>0.0</td>\n",
       "    </tr>\n",
       "    <tr>\n",
       "      <th>1</th>\n",
       "      <td>1</td>\n",
       "      <td>137322</td>\n",
       "      <td>1</td>\n",
       "      <td>MTM3MzIyLTIwMTQ0MDE0X2Jsb2cgcG9zdF8xNzQ4Mw</td>\n",
       "      <td>0.000927</td>\n",
       "      <td>B0yFf6kIDBS9-poQ1Fyv2t3K85bXD5n2I0Md_RII3LY</td>\n",
       "      <td>2017-11-16 02:00:00</td>\n",
       "      <td>blog post</td>\n",
       "      <td>[{'url': 'https://www.teenvogue.com/story/rive...</td>\n",
       "      <td>blog</td>\n",
       "      <td>...</td>\n",
       "      <td>\"Riverdale\" Recap Season 2 Episode 6: Who Is t...</td>\n",
       "      <td>0.0</td>\n",
       "      <td>0</td>\n",
       "      <td>teenvogue</td>\n",
       "      <td>__Each week, *Teen Vogue* will be taking you o...</td>\n",
       "      <td>{'@type': 'NewsArticle', 'headline': '\"Riverda...</td>\n",
       "      <td>0.079418</td>\n",
       "      <td>0.456985</td>\n",
       "      <td>0.0</td>\n",
       "      <td>0.0</td>\n",
       "    </tr>\n",
       "    <tr>\n",
       "      <th>2</th>\n",
       "      <td>2</td>\n",
       "      <td>137329</td>\n",
       "      <td>1077</td>\n",
       "      <td>MTM3MzI5LTIwMTQ0NzQ2X2Jsb2cgcG9zdF8xNzQ4Mw</td>\n",
       "      <td>2.625943</td>\n",
       "      <td>jByu9k_eNjDs0NyPjDTqvt3K85bXD5n2I0Md_RII3LY</td>\n",
       "      <td>2017-11-16 01:05:28</td>\n",
       "      <td>blog post</td>\n",
       "      <td>[{'url': 'https://www.wmagazine.com/story/leon...</td>\n",
       "      <td>blog</td>\n",
       "      <td>...</td>\n",
       "      <td>Leonardo da Vinci's Salvator Mundi Painting Se...</td>\n",
       "      <td>0.0</td>\n",
       "      <td>0</td>\n",
       "      <td>wmagazine</td>\n",
       "      <td>Last month, it was revealed that a once-lost [...</td>\n",
       "      <td>{'@type': 'NewsArticle', 'headline': \"Leonardo...</td>\n",
       "      <td>0.009103</td>\n",
       "      <td>0.542439</td>\n",
       "      <td>0.0</td>\n",
       "      <td>0.0</td>\n",
       "    </tr>\n",
       "    <tr>\n",
       "      <th>3</th>\n",
       "      <td>3</td>\n",
       "      <td>137322</td>\n",
       "      <td>1</td>\n",
       "      <td>MTM3MzIyLTIwMTQ0MDE1X2Jsb2cgcG9zdF8xNzQ4Mw</td>\n",
       "      <td>0.000937</td>\n",
       "      <td>2l5jpXZ34bmotrXo0V_z1t3K85bXD5n2I0Md_RII3LY</td>\n",
       "      <td>2017-11-15 23:44:52</td>\n",
       "      <td>blog post</td>\n",
       "      <td>[{'url': 'https://www.teenvogue.com/story/made...</td>\n",
       "      <td>blog</td>\n",
       "      <td>...</td>\n",
       "      <td>Madelaine Petsch and Danielle Campbell Star in...</td>\n",
       "      <td>0.0</td>\n",
       "      <td>0</td>\n",
       "      <td>teenvogue</td>\n",
       "      <td>[Madelaine  has proved on  that she can play a...</td>\n",
       "      <td>{'@type': 'NewsArticle', 'headline': '\"Mean Gi...</td>\n",
       "      <td>0.248575</td>\n",
       "      <td>0.427420</td>\n",
       "      <td>0.0</td>\n",
       "      <td>0.0</td>\n",
       "    </tr>\n",
       "    <tr>\n",
       "      <th>4</th>\n",
       "      <td>4</td>\n",
       "      <td>137329</td>\n",
       "      <td>3</td>\n",
       "      <td>MTM3MzI5LTIwMTQ0NzQ3X2Jsb2cgcG9zdF8xNzQ4Mw</td>\n",
       "      <td>0.006514</td>\n",
       "      <td>HUE4eXJv3ImpRfBokd2d5N3K85bXD5n2I0Md_RII3LY</td>\n",
       "      <td>2017-11-15 23:39:41</td>\n",
       "      <td>blog post</td>\n",
       "      <td>[{'url': 'https://www.wmagazine.com/story/get-...</td>\n",
       "      <td>blog</td>\n",
       "      <td>...</td>\n",
       "      <td>Is Get Out a Comedy or a Drama? Jordan Peele W...</td>\n",
       "      <td>0.0</td>\n",
       "      <td>0</td>\n",
       "      <td>wmagazine</td>\n",
       "      <td>Filmmaker [Jordan  has made a name for himself...</td>\n",
       "      <td>{'@type': 'NewsArticle', 'headline': 'Is Get O...</td>\n",
       "      <td>0.160922</td>\n",
       "      <td>0.501335</td>\n",
       "      <td>0.0</td>\n",
       "      <td>0.0</td>\n",
       "    </tr>\n",
       "  </tbody>\n",
       "</table>\n",
       "<p>5 rows × 40 columns</p>\n",
       "</div>"
      ],
      "text/plain": [
       "   Unnamed: 0   brand  engagement                                    uniqueid  \\\n",
       "0           0  137316          33  MTM3MzE2LTIwMTQ2MTUyX2Jsb2cgcG9zdF8xNzQ4Mw   \n",
       "1           1  137322           1  MTM3MzIyLTIwMTQ0MDE0X2Jsb2cgcG9zdF8xNzQ4Mw   \n",
       "2           2  137329        1077  MTM3MzI5LTIwMTQ0NzQ2X2Jsb2cgcG9zdF8xNzQ4Mw   \n",
       "3           3  137322           1  MTM3MzIyLTIwMTQ0MDE1X2Jsb2cgcG9zdF8xNzQ4Mw   \n",
       "4           4  137329           3  MTM3MzI5LTIwMTQ0NzQ3X2Jsb2cgcG9zdF8xNzQ4Mw   \n",
       "\n",
       "     impact                                  share_token            timestamp  \\\n",
       "0  0.057249  MUEF3US5L1fQ9o23xiryJN3K85bXD5n2I0Md_RII3LY  2017-11-16 02:00:00   \n",
       "1  0.000927  B0yFf6kIDBS9-poQ1Fyv2t3K85bXD5n2I0Md_RII3LY  2017-11-16 02:00:00   \n",
       "2  2.625943  jByu9k_eNjDs0NyPjDTqvt3K85bXD5n2I0Md_RII3LY  2017-11-16 01:05:28   \n",
       "3  0.000937  2l5jpXZ34bmotrXo0V_z1t3K85bXD5n2I0Md_RII3LY  2017-11-15 23:44:52   \n",
       "4  0.006514  HUE4eXJv3ImpRfBokd2d5N3K85bXD5n2I0Md_RII3LY  2017-11-15 23:39:41   \n",
       "\n",
       "        type                                               urls channel  \\\n",
       "0  blog post  [{'url': 'https://www.glamour.com/story/riverd...    blog   \n",
       "1  blog post  [{'url': 'https://www.teenvogue.com/story/rive...    blog   \n",
       "2  blog post  [{'url': 'https://www.wmagazine.com/story/leon...    blog   \n",
       "3  blog post  [{'url': 'https://www.teenvogue.com/story/made...    blog   \n",
       "4  blog post  [{'url': 'https://www.wmagazine.com/story/get-...    blog   \n",
       "\n",
       "          ...                                                      title  \\\n",
       "0         ...          'Riverdale' Season 2 Episode 6 Recap: Who Is t...   \n",
       "1         ...          \"Riverdale\" Recap Season 2 Episode 6: Who Is t...   \n",
       "2         ...          Leonardo da Vinci's Salvator Mundi Painting Se...   \n",
       "3         ...          Madelaine Petsch and Danielle Campbell Star in...   \n",
       "4         ...          Is Get Out a Comedy or a Drama? Jordan Peele W...   \n",
       "\n",
       "  tweet_count  links_count        pub  \\\n",
       "0         0.0            0    glamour   \n",
       "1         0.0            0  teenvogue   \n",
       "2         0.0            0  wmagazine   \n",
       "3         0.0            0  teenvogue   \n",
       "4         0.0            0  wmagazine   \n",
       "\n",
       "                                            blogpost  \\\n",
       "0  Tonight's episode of  was pretty standard: Jug...   \n",
       "1  __Each week, *Teen Vogue* will be taking you o...   \n",
       "2  Last month, it was revealed that a once-lost [...   \n",
       "3  [Madelaine  has proved on  that she can play a...   \n",
       "4  Filmmaker [Jordan  has made a name for himself...   \n",
       "\n",
       "                                         blogdetails  polarity  subjectivity  \\\n",
       "0  {'@type': 'NewsArticle', 'headline': \"The Blac... -0.073446      0.480521   \n",
       "1  {'@type': 'NewsArticle', 'headline': '\"Riverda...  0.079418      0.456985   \n",
       "2  {'@type': 'NewsArticle', 'headline': \"Leonardo...  0.009103      0.542439   \n",
       "3  {'@type': 'NewsArticle', 'headline': '\"Mean Gi...  0.248575      0.427420   \n",
       "4  {'@type': 'NewsArticle', 'headline': 'Is Get O...  0.160922      0.501335   \n",
       "\n",
       "   title_polarity  title_subjectivity  \n",
       "0             0.0                 0.0  \n",
       "1             0.0                 0.0  \n",
       "2             0.0                 0.0  \n",
       "3             0.0                 0.0  \n",
       "4             0.0                 0.0  \n",
       "\n",
       "[5 rows x 40 columns]"
      ]
     },
     "execution_count": 33,
     "metadata": {},
     "output_type": "execute_result"
    }
   ],
   "source": [
    "blogposts.head()"
   ]
  },
  {
   "cell_type": "code",
   "execution_count": null,
   "metadata": {
    "collapsed": true
   },
   "outputs": [],
   "source": []
  }
 ],
 "metadata": {
  "kernelspec": {
   "display_name": "Python 3",
   "language": "python",
   "name": "python3"
  },
  "language_info": {
   "codemirror_mode": {
    "name": "ipython",
    "version": 3
   },
   "file_extension": ".py",
   "mimetype": "text/x-python",
   "name": "python",
   "nbconvert_exporter": "python",
   "pygments_lexer": "ipython3",
   "version": "3.6.2"
  }
 },
 "nbformat": 4,
 "nbformat_minor": 2
}
